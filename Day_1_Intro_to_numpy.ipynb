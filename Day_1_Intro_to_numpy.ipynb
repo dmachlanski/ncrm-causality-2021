{
  "nbformat": 4,
  "nbformat_minor": 0,
  "metadata": {
    "colab": {
      "name": "Day 1 - Intro to numpy.ipynb",
      "provenance": [],
      "collapsed_sections": [],
      "authorship_tag": "ABX9TyMyJDKhnyFBfT07fxcQ1GYA",
      "include_colab_link": true
    },
    "kernelspec": {
      "name": "python3",
      "display_name": "Python 3"
    },
    "language_info": {
      "name": "python"
    }
  },
  "cells": [
    {
      "cell_type": "markdown",
      "metadata": {
        "id": "view-in-github",
        "colab_type": "text"
      },
      "source": [
        "<a href=\"https://colab.research.google.com/github/dmachlanski/ncrm-causality-2021/blob/main/Day_1_Intro_to_numpy.ipynb\" target=\"_parent\"><img src=\"https://colab.research.google.com/assets/colab-badge.svg\" alt=\"Open In Colab\"/></a>"
      ]
    },
    {
      "cell_type": "markdown",
      "metadata": {
        "id": "-5mp1u7EIo-Q"
      },
      "source": [
        "# Day 1"
      ]
    },
    {
      "cell_type": "markdown",
      "metadata": {
        "id": "BV_rtQWXk-6T"
      },
      "source": [
        "## NumPy"
      ]
    },
    {
      "cell_type": "code",
      "metadata": {
        "id": "hw8T2y9BC03b"
      },
      "source": [
        "import numpy as np"
      ],
      "execution_count": null,
      "outputs": []
    },
    {
      "cell_type": "code",
      "metadata": {
        "colab": {
          "base_uri": "https://localhost:8080/"
        },
        "id": "mi43pIRoDFZh",
        "outputId": "c489e0cf-247a-471c-cf46-62889ad94ac7"
      },
      "source": [
        "# Simple array creation\n",
        "a = np.array([0, 1, 2, 3, 4, 5])\n",
        "print(a)"
      ],
      "execution_count": null,
      "outputs": [
        {
          "output_type": "stream",
          "text": [
            "[0 1 2 3 4 5]\n"
          ],
          "name": "stdout"
        }
      ]
    },
    {
      "cell_type": "code",
      "metadata": {
        "colab": {
          "base_uri": "https://localhost:8080/"
        },
        "id": "p7_3HaxqDJ2I",
        "outputId": "3631f78d-d764-4729-fbda-fe95feabcd7b"
      },
      "source": [
        "# Check dimensions and shape\n",
        "print(a.ndim)\n",
        "print(a.shape)"
      ],
      "execution_count": null,
      "outputs": [
        {
          "output_type": "stream",
          "text": [
            "1\n",
            "(6,)\n"
          ],
          "name": "stdout"
        }
      ]
    },
    {
      "cell_type": "code",
      "metadata": {
        "colab": {
          "base_uri": "https://localhost:8080/"
        },
        "id": "iGYYe3FmPJvE",
        "outputId": "75a59422-ca55-41a8-b696-250bc6366019"
      },
      "source": [
        "print(a + 10)\n",
        "print(a - 10)\n",
        "print(a * 2)\n",
        "print(a ** 2)"
      ],
      "execution_count": null,
      "outputs": [
        {
          "output_type": "stream",
          "text": [
            "[10 11 12 13 14 15]\n",
            "[-10  -9  -8  -7  -6  -5]\n",
            "[ 0  2  4  6  8 10]\n",
            "[ 0  1  4  9 16 25]\n"
          ],
          "name": "stdout"
        }
      ]
    },
    {
      "cell_type": "code",
      "metadata": {
        "colab": {
          "base_uri": "https://localhost:8080/"
        },
        "id": "mWmDx5M3DQkd",
        "outputId": "796ee6b4-c259-4868-f9b1-14e1cc7f915a"
      },
      "source": [
        "a = np.array([1, 2, 3, 4])\n",
        "b = np.array([2, 3, 4, 5])\n",
        "\n",
        "print(a * b)\n",
        "print(a ** b)\n",
        "print(a + b)\n",
        "print(a / b)"
      ],
      "execution_count": null,
      "outputs": [
        {
          "output_type": "stream",
          "text": [
            "[ 2  6 12 20]\n",
            "[   1    8   81 1024]\n",
            "[3 5 7 9]\n",
            "[0.5        0.66666667 0.75       0.8       ]\n"
          ],
          "name": "stdout"
        }
      ]
    },
    {
      "cell_type": "code",
      "metadata": {
        "colab": {
          "base_uri": "https://localhost:8080/"
        },
        "id": "GXCK6-IjDZaG",
        "outputId": "0edef32f-9be6-474b-bb22-a87c835e7c45"
      },
      "source": [
        "# Setting array elements\n",
        "print(a)\n",
        "print(a[0])\n",
        "a[0] = 10\n",
        "print(a[0])\n",
        "print(a)"
      ],
      "execution_count": null,
      "outputs": [
        {
          "output_type": "stream",
          "text": [
            "[1 2 3 4]\n",
            "1\n",
            "10\n",
            "[10  2  3  4]\n"
          ],
          "name": "stdout"
        }
      ]
    },
    {
      "cell_type": "code",
      "metadata": {
        "colab": {
          "base_uri": "https://localhost:8080/"
        },
        "id": "yaEcnS7FDcWa",
        "outputId": "af2268a6-1d13-44c7-f37a-3a4b47aa8917"
      },
      "source": [
        "# Multi-dimensional array\n",
        "a = np.array([[ 0, 1, 2, 3],\n",
        "              [10,11,12,13]])\n",
        "print(a)"
      ],
      "execution_count": null,
      "outputs": [
        {
          "output_type": "stream",
          "text": [
            "[[ 0  1  2  3]\n",
            " [10 11 12 13]]\n"
          ],
          "name": "stdout"
        }
      ]
    },
    {
      "cell_type": "code",
      "metadata": {
        "colab": {
          "base_uri": "https://localhost:8080/"
        },
        "id": "oL7YTo8SDjOV",
        "outputId": "6a8cccdc-344b-4bf6-d465-a2d176b0ac32"
      },
      "source": [
        "print(a.shape)\n",
        "print(a.size)\n",
        "print(a.ndim)"
      ],
      "execution_count": null,
      "outputs": [
        {
          "output_type": "stream",
          "text": [
            "(2, 4)\n",
            "8\n",
            "2\n"
          ],
          "name": "stdout"
        }
      ]
    },
    {
      "cell_type": "code",
      "metadata": {
        "colab": {
          "base_uri": "https://localhost:8080/"
        },
        "id": "F3FVyO_fDnTt",
        "outputId": "effca54a-9b80-4227-9ef9-7c622777cce3"
      },
      "source": [
        "# Get and set elements in Multi-dimensional array\n",
        "print(a)\n",
        "print(a[1, 3])\n",
        "a[1, 3] = -1\n",
        "print(a[1, 3])\n",
        "print(a)"
      ],
      "execution_count": null,
      "outputs": [
        {
          "output_type": "stream",
          "text": [
            "[[ 0  1  2  3]\n",
            " [10 11 12 13]]\n",
            "13\n",
            "-1\n",
            "[[ 0  1  2  3]\n",
            " [10 11 12 -1]]\n"
          ],
          "name": "stdout"
        }
      ]
    },
    {
      "cell_type": "code",
      "metadata": {
        "colab": {
          "base_uri": "https://localhost:8080/"
        },
        "id": "MTLT6BEqDsY9",
        "outputId": "71ffee20-64d8-4c12-fb1e-1b3734420fa8"
      },
      "source": [
        "# Print the second row.\n",
        "print(a[1])"
      ],
      "execution_count": null,
      "outputs": [
        {
          "output_type": "stream",
          "text": [
            "[10 11 12 -1]\n"
          ],
          "name": "stdout"
        }
      ]
    },
    {
      "cell_type": "markdown",
      "metadata": {
        "id": "5Ai4LYmSDv6a"
      },
      "source": [
        "### Slicing\n",
        "\n",
        "![Slicing array](https://scipy-lectures.org/_images/numpy_indexing.png)"
      ]
    },
    {
      "cell_type": "code",
      "metadata": {
        "colab": {
          "base_uri": "https://localhost:8080/"
        },
        "id": "nGXg8Wf0D53f",
        "outputId": "1d0f100f-3711-4b46-c51e-d71156250d9c"
      },
      "source": [
        "# Slicing array\n",
        "print(a)\n",
        "\n",
        "# print all row and 3rd column\n",
        "print(a[:,2])\n",
        "\n",
        "# print first row and all column \n",
        "print(a[0,:])\n",
        "\n",
        "# negative indices work also\n",
        "print(a)\n",
        "print(a[:,:-2])"
      ],
      "execution_count": null,
      "outputs": [
        {
          "output_type": "stream",
          "text": [
            "[[ 0  1  2  3]\n",
            " [10 11 12 -1]]\n",
            "[ 2 12]\n",
            "[0 1 2 3]\n",
            "[[ 0  1  2  3]\n",
            " [10 11 12 -1]]\n",
            "[[ 0  1]\n",
            " [10 11]]\n"
          ],
          "name": "stdout"
        }
      ]
    },
    {
      "cell_type": "markdown",
      "metadata": {
        "id": "WbItgoZpPgdb"
      },
      "source": [
        "### Some useful numpy functions"
      ]
    },
    {
      "cell_type": "code",
      "metadata": {
        "colab": {
          "base_uri": "https://localhost:8080/"
        },
        "id": "3GQG4-dfEOwI",
        "outputId": "0b6eb840-f2d5-4a2f-dc8b-5e8045655414"
      },
      "source": [
        "zeros = np.zeros((10, 10))\n",
        "print(zeros)\n",
        "# print the shape of zeros\n",
        "print(zeros.shape)\n",
        "\n",
        "ones = np.ones((4, 4))\n",
        "print(ones)\n",
        "# print the shape of ones\n",
        "print(ones.shape)\n",
        "\n",
        "print(ones.reshape(2, 8))\n",
        "# print the shape of ones\n",
        "print(ones.shape)"
      ],
      "execution_count": null,
      "outputs": [
        {
          "output_type": "stream",
          "text": [
            "[[0. 0. 0. 0. 0. 0. 0. 0. 0. 0.]\n",
            " [0. 0. 0. 0. 0. 0. 0. 0. 0. 0.]\n",
            " [0. 0. 0. 0. 0. 0. 0. 0. 0. 0.]\n",
            " [0. 0. 0. 0. 0. 0. 0. 0. 0. 0.]\n",
            " [0. 0. 0. 0. 0. 0. 0. 0. 0. 0.]\n",
            " [0. 0. 0. 0. 0. 0. 0. 0. 0. 0.]\n",
            " [0. 0. 0. 0. 0. 0. 0. 0. 0. 0.]\n",
            " [0. 0. 0. 0. 0. 0. 0. 0. 0. 0.]\n",
            " [0. 0. 0. 0. 0. 0. 0. 0. 0. 0.]\n",
            " [0. 0. 0. 0. 0. 0. 0. 0. 0. 0.]]\n",
            "(10, 10)\n",
            "[[1. 1. 1. 1.]\n",
            " [1. 1. 1. 1.]\n",
            " [1. 1. 1. 1.]\n",
            " [1. 1. 1. 1.]]\n",
            "(4, 4)\n",
            "[[1. 1. 1. 1. 1. 1. 1. 1.]\n",
            " [1. 1. 1. 1. 1. 1. 1. 1.]]\n",
            "(4, 4)\n"
          ],
          "name": "stdout"
        }
      ]
    },
    {
      "cell_type": "code",
      "metadata": {
        "colab": {
          "base_uri": "https://localhost:8080/"
        },
        "id": "z4Qpu_SzQ9Tq",
        "outputId": "171b89c3-eb04-4961-bb1c-75f88eb53d1a"
      },
      "source": [
        "arr1 = np.array([[1, 2, 3, 4], [1, 2, 3, 4]])\n",
        "arr2 = np.array([[5, 6, 7, 8], [5, 6, 7 , 8]])\n",
        "\n",
        "print(arr1)\n",
        "print(arr2)\n",
        "print(arr1.shape, arr2.shape)"
      ],
      "execution_count": null,
      "outputs": [
        {
          "output_type": "stream",
          "text": [
            "[[1 2 3 4]\n",
            " [1 2 3 4]]\n",
            "[[5 6 7 8]\n",
            " [5 6 7 8]]\n",
            "(2, 4) (2, 4)\n"
          ],
          "name": "stdout"
        }
      ]
    },
    {
      "cell_type": "code",
      "metadata": {
        "colab": {
          "base_uri": "https://localhost:8080/"
        },
        "id": "LyVBXbSqQ-38",
        "outputId": "47d67ee8-9f57-49b3-afeb-aba83ef40b76"
      },
      "source": [
        "# concatenate along the row\n",
        "cat = np.concatenate((arr1, arr2), axis=0)\n",
        "print(cat)\n",
        "print(cat.shape)\n",
        "\n",
        "# concatenate along the column\n",
        "cat = np.concatenate((arr1, arr2), axis=1)    \n",
        "print(cat)\n",
        "print(cat.shape)"
      ],
      "execution_count": null,
      "outputs": [
        {
          "output_type": "stream",
          "text": [
            "[[1 2 3 4]\n",
            " [1 2 3 4]\n",
            " [5 6 7 8]\n",
            " [5 6 7 8]]\n",
            "(4, 4)\n",
            "[[1 2 3 4 5 6 7 8]\n",
            " [1 2 3 4 5 6 7 8]]\n",
            "(2, 8)\n"
          ],
          "name": "stdout"
        }
      ]
    },
    {
      "cell_type": "code",
      "metadata": {
        "colab": {
          "base_uri": "https://localhost:8080/"
        },
        "id": "W57zfhM0Q-2O",
        "outputId": "3e48b95a-5570-4ef2-9c9f-792258b7aff4"
      },
      "source": [
        "mat1 = np.array([[1, 2, 3, 4], [1, 2, 3, 4]])\n",
        "mat2 = mat1.T # this is the transpose of mat1\n",
        "\n",
        "print(mat1)\n",
        "print(mat1.shape)\n",
        "print(mat2)\n",
        "print(mat2.shape)"
      ],
      "execution_count": null,
      "outputs": [
        {
          "output_type": "stream",
          "text": [
            "[[1 2 3 4]\n",
            " [1 2 3 4]]\n",
            "(2, 4)\n",
            "[[1 1]\n",
            " [2 2]\n",
            " [3 3]\n",
            " [4 4]]\n",
            "(4, 2)\n"
          ],
          "name": "stdout"
        }
      ]
    },
    {
      "cell_type": "code",
      "metadata": {
        "colab": {
          "base_uri": "https://localhost:8080/"
        },
        "id": "H2oFGoQMRdCg",
        "outputId": "8c788f1a-37b3-4625-c528-1d6fff6b12ff"
      },
      "source": [
        "print(np.matmul(mat1, mat2))"
      ],
      "execution_count": null,
      "outputs": [
        {
          "output_type": "stream",
          "text": [
            "[[30 30]\n",
            " [30 30]]\n"
          ],
          "name": "stdout"
        }
      ]
    },
    {
      "cell_type": "code",
      "metadata": {
        "colab": {
          "base_uri": "https://localhost:8080/"
        },
        "id": "eYeRs4YRRz5K",
        "outputId": "ba8e0ff2-23a7-47ec-b652-2e37c0f05f9a"
      },
      "source": [
        "# Sample from standard normal distribution (1000 samples).\n",
        "randn = np.random.randn(1000)\n",
        "\n",
        "print(np.mean(randn))\n",
        "print(np.median(randn))\n",
        "print(np.std(randn))\n",
        "print(np.var(randn))"
      ],
      "execution_count": null,
      "outputs": [
        {
          "output_type": "stream",
          "text": [
            "-0.040408942224423636\n",
            "-0.01289954710741053\n",
            "0.9808260515607434\n",
            "0.9620197434202382\n"
          ],
          "name": "stdout"
        }
      ]
    },
    {
      "cell_type": "markdown",
      "metadata": {
        "id": "dcGDQpdXTlpU"
      },
      "source": [
        "## Plotting with Matplotlib"
      ]
    },
    {
      "cell_type": "code",
      "metadata": {
        "id": "V7lnjwyBSgYB"
      },
      "source": [
        "import matplotlib.pyplot as plt"
      ],
      "execution_count": null,
      "outputs": []
    },
    {
      "cell_type": "code",
      "metadata": {
        "colab": {
          "base_uri": "https://localhost:8080/",
          "height": 295
        },
        "id": "SOJsLv5-Tdts",
        "outputId": "bff26a2c-a915-4f22-c0c9-6d241fd24419"
      },
      "source": [
        "t = np.linspace(-np.pi, np.pi, 201)\n",
        "my_sin = np.sin(1/4*np.pi*t)\n",
        "plt.figure()\n",
        "plt.plot(t, my_sin)\n",
        "plt.xlabel(\"Time\")\n",
        "plt.ylabel(\"sin(1/4*pi*t)\")\n",
        "plt.title(\"Sinusoidal function\")\n",
        "plt.show()"
      ],
      "execution_count": null,
      "outputs": [
        {
          "output_type": "display_data",
          "data": {
            "image/png": "[encoded data removed]",
            "text/plain": [
              "<Figure size 432x288 with 1 Axes>"
            ]
          },
          "metadata": {
            "tags": [],
            "needs_background": "light"
          }
        }
      ]
    },
    {
      "cell_type": "code",
      "metadata": {
        "colab": {
          "base_uri": "https://localhost:8080/",
          "height": 349
        },
        "id": "YXgzhXv2TdmF",
        "outputId": "5c7a435b-bd44-42ac-c247-d1b2a03a4534"
      },
      "source": [
        "plt.hist(randn)"
      ],
      "execution_count": null,
      "outputs": [
        {
          "output_type": "execute_result",
          "data": {
            "text/plain": [
              "(array([  1.,  11.,  24.,  90., 158., 248., 224., 159.,  68.,  17.]),\n",
              " array([-3.67448207, -3.05277488, -2.43106768, -1.80936049, -1.1876533 ,\n",
              "        -0.56594611,  0.05576108,  0.67746827,  1.29917546,  1.92088265,\n",
              "         2.54258985]),\n",
              " <a list of 10 Patch objects>)"
            ]
          },
          "metadata": {
            "tags": []
          },
          "execution_count": 59
        },
        {
          "output_type": "display_data",
          "data": {
            "image/png": "[encoded data removed]",
            "text/plain": [
              "<Figure size 432x288 with 1 Axes>"
            ]
          },
          "metadata": {
            "tags": [],
            "needs_background": "light"
          }
        }
      ]
    }
  ]
}