{
  "nbformat": 4,
  "nbformat_minor": 0,
  "metadata": {
    "colab": {
      "name": "Day 1 - Intro to ML.ipynb",
      "provenance": [],
      "collapsed_sections": [],
      "authorship_tag": "ABX9TyOWnQyzYG9MMVjlNaM1e2B2",
      "include_colab_link": true
    },
    "kernelspec": {
      "name": "python3",
      "display_name": "Python 3"
    },
    "language_info": {
      "name": "python"
    }
  },
  "cells": [
    {
      "cell_type": "markdown",
      "metadata": {
        "id": "view-in-github",
        "colab_type": "text"
      },
      "source": [
        "<a href=\"https://colab.research.google.com/github/dmachlanski/ncrm-causality-2021/blob/main/Day_1_Intro_to_ML.ipynb\" target=\"_parent\"><img src=\"https://colab.research.google.com/assets/colab-badge.svg\" alt=\"Open In Colab\"/></a>"
      ]
    },
    {
      "cell_type": "markdown",
      "metadata": {
        "id": "yVUCSRAUn5ih"
      },
      "source": [
        "# Day 1 - Introduction to Machine Learning"
      ]
    },
    {
      "cell_type": "code",
      "metadata": {
        "id": "d3OM0v6sdkp6"
      },
      "source": [
        "import pandas as pd\n",
        "import numpy as np\n",
        "import matplotlib.pyplot as plt\n",
        "\n",
        "from sklearn.linear_model import LinearRegression, LogisticRegression\n",
        "from sklearn.tree import DecisionTreeRegressor, DecisionTreeClassifier\n",
        "from sklearn.ensemble import RandomForestRegressor, RandomForestClassifier\n",
        "from sklearn.dummy import DummyRegressor, DummyClassifier\n",
        "\n",
        "from sklearn.model_selection import train_test_split, GridSearchCV\n",
        "from sklearn.metrics import mean_squared_error, classification_report, confusion_matrix, ConfusionMatrixDisplay\n",
        "from sklearn.preprocessing import MinMaxScaler"
      ],
      "execution_count": 31,
      "outputs": []
    },
    {
      "cell_type": "markdown",
      "metadata": {
        "id": "ggQlXciCn2P_"
      },
      "source": [
        "## Regression"
      ]
    },
    {
      "cell_type": "code",
      "metadata": {
        "id": "k70IJMt1eahM"
      },
      "source": [
        "arr_housing = np.loadtxt(\"https://raw.githubusercontent.com/dmachlanski/ncrm-causality-2021/main/data/housing.data\")"
      ],
      "execution_count": 11,
      "outputs": []
    },
    {
      "cell_type": "code",
      "metadata": {
        "colab": {
          "base_uri": "https://localhost:8080/"
        },
        "id": "53FZkLcJiYki",
        "outputId": "28225ba7-1d09-42cb-d0d7-14cd2db68384"
      },
      "source": [
        "arr_housing.shape"
      ],
      "execution_count": 12,
      "outputs": [
        {
          "output_type": "execute_result",
          "data": {
            "text/plain": [
              "(506, 14)"
            ]
          },
          "metadata": {
            "tags": []
          },
          "execution_count": 12
        }
      ]
    },
    {
      "cell_type": "code",
      "metadata": {
        "colab": {
          "base_uri": "https://localhost:8080/",
          "height": 195
        },
        "id": "r8WLvShHoIRP",
        "outputId": "7860b7f2-c09f-423e-f548-a98ec5ab2d2f"
      },
      "source": [
        "pd_housing = pd.DataFrame(arr_housing)\n",
        "pd_housing.head(5)"
      ],
      "execution_count": 13,
      "outputs": [
        {
          "output_type": "execute_result",
          "data": {
            "text/html": [
              "<div>\n",
              "<style scoped>\n",
              "    .dataframe tbody tr th:only-of-type {\n",
              "        vertical-align: middle;\n",
              "    }\n",
              "\n",
              "    .dataframe tbody tr th {\n",
              "        vertical-align: top;\n",
              "    }\n",
              "\n",
              "    .dataframe thead th {\n",
              "        text-align: right;\n",
              "    }\n",
              "</style>\n",
              "<table border=\"1\" class=\"dataframe\">\n",
              "  <thead>\n",
              "    <tr style=\"text-align: right;\">\n",
              "      <th></th>\n",
              "      <th>0</th>\n",
              "      <th>1</th>\n",
              "      <th>2</th>\n",
              "      <th>3</th>\n",
              "      <th>4</th>\n",
              "      <th>5</th>\n",
              "      <th>6</th>\n",
              "      <th>7</th>\n",
              "      <th>8</th>\n",
              "      <th>9</th>\n",
              "      <th>10</th>\n",
              "      <th>11</th>\n",
              "      <th>12</th>\n",
              "      <th>13</th>\n",
              "    </tr>\n",
              "  </thead>\n",
              "  <tbody>\n",
              "    <tr>\n",
              "      <th>0</th>\n",
              "      <td>0.00632</td>\n",
              "      <td>18.0</td>\n",
              "      <td>2.31</td>\n",
              "      <td>0.0</td>\n",
              "      <td>0.538</td>\n",
              "      <td>6.575</td>\n",
              "      <td>65.2</td>\n",
              "      <td>4.0900</td>\n",
              "      <td>1.0</td>\n",
              "      <td>296.0</td>\n",
              "      <td>15.3</td>\n",
              "      <td>396.90</td>\n",
              "      <td>4.98</td>\n",
              "      <td>24.0</td>\n",
              "    </tr>\n",
              "    <tr>\n",
              "      <th>1</th>\n",
              "      <td>0.02731</td>\n",
              "      <td>0.0</td>\n",
              "      <td>7.07</td>\n",
              "      <td>0.0</td>\n",
              "      <td>0.469</td>\n",
              "      <td>6.421</td>\n",
              "      <td>78.9</td>\n",
              "      <td>4.9671</td>\n",
              "      <td>2.0</td>\n",
              "      <td>242.0</td>\n",
              "      <td>17.8</td>\n",
              "      <td>396.90</td>\n",
              "      <td>9.14</td>\n",
              "      <td>21.6</td>\n",
              "    </tr>\n",
              "    <tr>\n",
              "      <th>2</th>\n",
              "      <td>0.02729</td>\n",
              "      <td>0.0</td>\n",
              "      <td>7.07</td>\n",
              "      <td>0.0</td>\n",
              "      <td>0.469</td>\n",
              "      <td>7.185</td>\n",
              "      <td>61.1</td>\n",
              "      <td>4.9671</td>\n",
              "      <td>2.0</td>\n",
              "      <td>242.0</td>\n",
              "      <td>17.8</td>\n",
              "      <td>392.83</td>\n",
              "      <td>4.03</td>\n",
              "      <td>34.7</td>\n",
              "    </tr>\n",
              "    <tr>\n",
              "      <th>3</th>\n",
              "      <td>0.03237</td>\n",
              "      <td>0.0</td>\n",
              "      <td>2.18</td>\n",
              "      <td>0.0</td>\n",
              "      <td>0.458</td>\n",
              "      <td>6.998</td>\n",
              "      <td>45.8</td>\n",
              "      <td>6.0622</td>\n",
              "      <td>3.0</td>\n",
              "      <td>222.0</td>\n",
              "      <td>18.7</td>\n",
              "      <td>394.63</td>\n",
              "      <td>2.94</td>\n",
              "      <td>33.4</td>\n",
              "    </tr>\n",
              "    <tr>\n",
              "      <th>4</th>\n",
              "      <td>0.06905</td>\n",
              "      <td>0.0</td>\n",
              "      <td>2.18</td>\n",
              "      <td>0.0</td>\n",
              "      <td>0.458</td>\n",
              "      <td>7.147</td>\n",
              "      <td>54.2</td>\n",
              "      <td>6.0622</td>\n",
              "      <td>3.0</td>\n",
              "      <td>222.0</td>\n",
              "      <td>18.7</td>\n",
              "      <td>396.90</td>\n",
              "      <td>5.33</td>\n",
              "      <td>36.2</td>\n",
              "    </tr>\n",
              "  </tbody>\n",
              "</table>\n",
              "</div>"
            ],
            "text/plain": [
              "        0     1     2    3      4      5   ...   8      9     10      11    12    13\n",
              "0  0.00632  18.0  2.31  0.0  0.538  6.575  ...  1.0  296.0  15.3  396.90  4.98  24.0\n",
              "1  0.02731   0.0  7.07  0.0  0.469  6.421  ...  2.0  242.0  17.8  396.90  9.14  21.6\n",
              "2  0.02729   0.0  7.07  0.0  0.469  7.185  ...  2.0  242.0  17.8  392.83  4.03  34.7\n",
              "3  0.03237   0.0  2.18  0.0  0.458  6.998  ...  3.0  222.0  18.7  394.63  2.94  33.4\n",
              "4  0.06905   0.0  2.18  0.0  0.458  7.147  ...  3.0  222.0  18.7  396.90  5.33  36.2\n",
              "\n",
              "[5 rows x 14 columns]"
            ]
          },
          "metadata": {
            "tags": []
          },
          "execution_count": 13
        }
      ]
    },
    {
      "cell_type": "code",
      "metadata": {
        "colab": {
          "base_uri": "https://localhost:8080/"
        },
        "id": "hmYC_PIgokoE",
        "outputId": "b05ac905-7258-432f-b08f-4ea0cf868f3d"
      },
      "source": [
        "housing_x = arr_housing[:, :-1]\n",
        "housing_y = arr_housing[:, -1]\n",
        "\n",
        "housing_x_train, housing_x_test, housing_y_train, housing_y_test = train_test_split(housing_x, housing_y, test_size=0.2)\n",
        "\n",
        "scaler_x = MinMaxScaler(feature_range=(-1, 1))\n",
        "housing_x_train = scaler_x.fit_transform(housing_x_train)\n",
        "housing_x_test = scaler_x.transform(housing_x_test)\n",
        "\n",
        "scaler_y = MinMaxScaler(feature_range=(-1, 1))\n",
        "housing_y_train = scaler_y.fit_transform(housing_y_train.reshape(-1, 1))\n",
        "\n",
        "print(housing_x_train.shape)\n",
        "print(housing_y_train.shape)\n",
        "print(housing_x_test.shape)\n",
        "print(housing_y_test.shape)"
      ],
      "execution_count": 45,
      "outputs": [
        {
          "output_type": "stream",
          "text": [
            "(404, 13)\n",
            "(404, 1)\n",
            "(102, 13)\n",
            "(102,)\n"
          ],
          "name": "stdout"
        }
      ]
    },
    {
      "cell_type": "code",
      "metadata": {
        "colab": {
          "base_uri": "https://localhost:8080/"
        },
        "id": "gGh8e66MpFFj",
        "outputId": "676051f5-097a-49c3-d91d-c578321d6b79"
      },
      "source": [
        "dr = DummyRegressor()\n",
        "dr.fit(housing_x_train, housing_y_train)\n",
        "\n",
        "y_pred_test = dr.predict(housing_x_test)\n",
        "y_pred_test_inv = scaler_y.inverse_transform(y_pred_test.reshape(-1, 1))\n",
        "\n",
        "dr_mse_test = mean_squared_error(housing_y_test, y_pred_test_inv)\n",
        "\n",
        "print(dr_mse_test)"
      ],
      "execution_count": 48,
      "outputs": [
        {
          "output_type": "stream",
          "text": [
            "69.65994440664218\n"
          ],
          "name": "stdout"
        }
      ]
    },
    {
      "cell_type": "code",
      "metadata": {
        "colab": {
          "base_uri": "https://localhost:8080/"
        },
        "id": "aLCsXOCQqJXz",
        "outputId": "f668af83-bab6-4cf6-9309-c7f63d598dc0"
      },
      "source": [
        "lr = LinearRegression()\n",
        "lr.fit(housing_x_train, housing_y_train)\n",
        "\n",
        "y_pred_test = lr.predict(housing_x_test)\n",
        "y_pred_test_inv = scaler_y.inverse_transform(y_pred_test.reshape(-1, 1))\n",
        "\n",
        "lr_mse_test = mean_squared_error(housing_y_test, y_pred_test_inv)\n",
        "\n",
        "print(lr_mse_test)"
      ],
      "execution_count": 49,
      "outputs": [
        {
          "output_type": "stream",
          "text": [
            "25.005918899068384\n"
          ],
          "name": "stdout"
        }
      ]
    },
    {
      "cell_type": "code",
      "metadata": {
        "colab": {
          "base_uri": "https://localhost:8080/"
        },
        "id": "dR74DXjqqJLU",
        "outputId": "7982faa1-c1cb-4800-ed28-cd9e3822e2eb"
      },
      "source": [
        "dt = DecisionTreeRegressor()\n",
        "dt.fit(housing_x_train, housing_y_train)\n",
        "\n",
        "y_pred_test = dt.predict(housing_x_test)\n",
        "y_pred_test_inv = scaler_y.inverse_transform(y_pred_test.reshape(-1, 1))\n",
        "\n",
        "dt_mse_test = mean_squared_error(housing_y_test, y_pred_test_inv)\n",
        "\n",
        "print(dt_mse_test)"
      ],
      "execution_count": 50,
      "outputs": [
        {
          "output_type": "stream",
          "text": [
            "16.12549019607843\n"
          ],
          "name": "stdout"
        }
      ]
    },
    {
      "cell_type": "code",
      "metadata": {
        "colab": {
          "base_uri": "https://localhost:8080/"
        },
        "id": "xzhworeeokmD",
        "outputId": "fe88b824-7767-4221-dd34-a318b01b3fba"
      },
      "source": [
        "rf = RandomForestRegressor()\n",
        "rf.fit(housing_x_train, housing_y_train.flatten())\n",
        "\n",
        "y_pred_test = rf.predict(housing_x_test)\n",
        "y_pred_test_inv = scaler_y.inverse_transform(y_pred_test.reshape(-1, 1))\n",
        "\n",
        "rf_mse_test = mean_squared_error(housing_y_test, y_pred_test_inv)\n",
        "\n",
        "print(rf_mse_test)"
      ],
      "execution_count": 52,
      "outputs": [
        {
          "output_type": "stream",
          "text": [
            "12.001987882352944\n"
          ],
          "name": "stdout"
        }
      ]
    },
    {
      "cell_type": "code",
      "metadata": {
        "colab": {
          "base_uri": "https://localhost:8080/"
        },
        "id": "J5ocoJaDsvWJ",
        "outputId": "8df3c6fe-be6d-4b6a-8e1d-83a803270c41"
      },
      "source": [
        "params = {\"max_leaf_nodes\": [2, 5, 10, 20, 30], \"max_depth\": [2, 5, 10, 20, None], 'n_estimators': [10, 100, 200]}\n",
        "rf = RandomForestRegressor()\n",
        "rf_cv = GridSearchCV(rf, param_grid=params, cv=5, n_jobs=-1)\n",
        "\n",
        "rf_cv.fit(housing_x_train, housing_y_train.flatten())\n",
        "\n",
        "print(rf_cv.best_params_)\n",
        "\n",
        "y_pred_test = rf_cv.predict(housing_x_test)\n",
        "y_pred_test_inv = scaler_y.inverse_transform(y_pred_test.reshape(-1, 1))\n",
        "\n",
        "rf_cv_mse_test = mean_squared_error(housing_y_test, y_pred_test_inv)\n",
        "\n",
        "print(rf_cv_mse_test)"
      ],
      "execution_count": 53,
      "outputs": [
        {
          "output_type": "stream",
          "text": [
            "{'max_depth': 10, 'max_leaf_nodes': 30, 'n_estimators': 100}\n",
            "12.303262791171932\n"
          ],
          "name": "stdout"
        }
      ]
    },
    {
      "cell_type": "markdown",
      "metadata": {
        "id": "TWaVg6T5n-EH"
      },
      "source": [
        "## Classification"
      ]
    },
    {
      "cell_type": "code",
      "metadata": {
        "id": "JBDZPNy1kldP"
      },
      "source": [
        "df_diab = pd.read_csv(\"https://raw.githubusercontent.com/dmachlanski/ncrm-causality-2021/main/data/pima-indians-diabetes.csv\", delimiter=',', header=None)"
      ],
      "execution_count": 2,
      "outputs": []
    },
    {
      "cell_type": "code",
      "metadata": {
        "colab": {
          "base_uri": "https://localhost:8080/"
        },
        "id": "qqsjMm4bwW3K",
        "outputId": "949d225b-942f-4630-9157-ebda34e83a7d"
      },
      "source": [
        "df_diab.shape"
      ],
      "execution_count": 3,
      "outputs": [
        {
          "output_type": "execute_result",
          "data": {
            "text/plain": [
              "(768, 9)"
            ]
          },
          "metadata": {
            "tags": []
          },
          "execution_count": 3
        }
      ]
    },
    {
      "cell_type": "code",
      "metadata": {
        "colab": {
          "base_uri": "https://localhost:8080/",
          "height": 195
        },
        "id": "r-Fww0Vsmp1m",
        "outputId": "8ff1bdf5-8ac9-4353-88d4-3c02a3c74621"
      },
      "source": [
        "df_diab.head(5)"
      ],
      "execution_count": 4,
      "outputs": [
        {
          "output_type": "execute_result",
          "data": {
            "text/html": [
              "<div>\n",
              "<style scoped>\n",
              "    .dataframe tbody tr th:only-of-type {\n",
              "        vertical-align: middle;\n",
              "    }\n",
              "\n",
              "    .dataframe tbody tr th {\n",
              "        vertical-align: top;\n",
              "    }\n",
              "\n",
              "    .dataframe thead th {\n",
              "        text-align: right;\n",
              "    }\n",
              "</style>\n",
              "<table border=\"1\" class=\"dataframe\">\n",
              "  <thead>\n",
              "    <tr style=\"text-align: right;\">\n",
              "      <th></th>\n",
              "      <th>0</th>\n",
              "      <th>1</th>\n",
              "      <th>2</th>\n",
              "      <th>3</th>\n",
              "      <th>4</th>\n",
              "      <th>5</th>\n",
              "      <th>6</th>\n",
              "      <th>7</th>\n",
              "      <th>8</th>\n",
              "    </tr>\n",
              "  </thead>\n",
              "  <tbody>\n",
              "    <tr>\n",
              "      <th>0</th>\n",
              "      <td>6</td>\n",
              "      <td>148</td>\n",
              "      <td>72</td>\n",
              "      <td>35</td>\n",
              "      <td>0</td>\n",
              "      <td>33.6</td>\n",
              "      <td>0.627</td>\n",
              "      <td>50</td>\n",
              "      <td>1</td>\n",
              "    </tr>\n",
              "    <tr>\n",
              "      <th>1</th>\n",
              "      <td>1</td>\n",
              "      <td>85</td>\n",
              "      <td>66</td>\n",
              "      <td>29</td>\n",
              "      <td>0</td>\n",
              "      <td>26.6</td>\n",
              "      <td>0.351</td>\n",
              "      <td>31</td>\n",
              "      <td>0</td>\n",
              "    </tr>\n",
              "    <tr>\n",
              "      <th>2</th>\n",
              "      <td>8</td>\n",
              "      <td>183</td>\n",
              "      <td>64</td>\n",
              "      <td>0</td>\n",
              "      <td>0</td>\n",
              "      <td>23.3</td>\n",
              "      <td>0.672</td>\n",
              "      <td>32</td>\n",
              "      <td>1</td>\n",
              "    </tr>\n",
              "    <tr>\n",
              "      <th>3</th>\n",
              "      <td>1</td>\n",
              "      <td>89</td>\n",
              "      <td>66</td>\n",
              "      <td>23</td>\n",
              "      <td>94</td>\n",
              "      <td>28.1</td>\n",
              "      <td>0.167</td>\n",
              "      <td>21</td>\n",
              "      <td>0</td>\n",
              "    </tr>\n",
              "    <tr>\n",
              "      <th>4</th>\n",
              "      <td>0</td>\n",
              "      <td>137</td>\n",
              "      <td>40</td>\n",
              "      <td>35</td>\n",
              "      <td>168</td>\n",
              "      <td>43.1</td>\n",
              "      <td>2.288</td>\n",
              "      <td>33</td>\n",
              "      <td>1</td>\n",
              "    </tr>\n",
              "  </tbody>\n",
              "</table>\n",
              "</div>"
            ],
            "text/plain": [
              "   0    1   2   3    4     5      6   7  8\n",
              "0  6  148  72  35    0  33.6  0.627  50  1\n",
              "1  1   85  66  29    0  26.6  0.351  31  0\n",
              "2  8  183  64   0    0  23.3  0.672  32  1\n",
              "3  1   89  66  23   94  28.1  0.167  21  0\n",
              "4  0  137  40  35  168  43.1  2.288  33  1"
            ]
          },
          "metadata": {
            "tags": []
          },
          "execution_count": 4
        }
      ]
    },
    {
      "cell_type": "code",
      "metadata": {
        "colab": {
          "base_uri": "https://localhost:8080/"
        },
        "id": "6SWGzUW-mrf1",
        "outputId": "ec10545c-46f5-4e70-fba0-cf05fe74e40b"
      },
      "source": [
        "np.unique(df_diab[8])"
      ],
      "execution_count": 5,
      "outputs": [
        {
          "output_type": "execute_result",
          "data": {
            "text/plain": [
              "array([0, 1])"
            ]
          },
          "metadata": {
            "tags": []
          },
          "execution_count": 5
        }
      ]
    },
    {
      "cell_type": "code",
      "metadata": {
        "colab": {
          "base_uri": "https://localhost:8080/",
          "height": 315
        },
        "id": "kLfwrkMom8Pf",
        "outputId": "aad53eb1-50d7-4f33-d2ad-b3cb44036d41"
      },
      "source": [
        "plt.hist(df_diab[8])"
      ],
      "execution_count": 9,
      "outputs": [
        {
          "output_type": "execute_result",
          "data": {
            "text/plain": [
              "(array([500.,   0.,   0.,   0.,   0.,   0.,   0.,   0.,   0., 268.]),\n",
              " array([0. , 0.1, 0.2, 0.3, 0.4, 0.5, 0.6, 0.7, 0.8, 0.9, 1. ]),\n",
              " <a list of 10 Patch objects>)"
            ]
          },
          "metadata": {
            "tags": []
          },
          "execution_count": 9
        },
        {
          "output_type": "display_data",
          "data": {
            "image/png": "[encoded data removed]",
            "text/plain": [
              "<Figure size 432x288 with 1 Axes>"
            ]
          },
          "metadata": {
            "tags": [],
            "needs_background": "light"
          }
        }
      ]
    },
    {
      "cell_type": "markdown",
      "metadata": {
        "id": "BX05teAgoOfe"
      },
      "source": [
        "As we can see, classes are imbalanced (500 vs 268). We will take this into account when splitting the data and evaluating our models."
      ]
    },
    {
      "cell_type": "code",
      "metadata": {
        "colab": {
          "base_uri": "https://localhost:8080/"
        },
        "id": "bcTkN8YOqZFe",
        "outputId": "db975a7b-8e1a-4dd6-c5e7-251d51b9e9d2"
      },
      "source": [
        "arr_diab = df_diab.to_numpy()\n",
        "diab_x = arr_diab[:, :-1]\n",
        "diab_y = arr_diab[:, -1]\n",
        "\n",
        "# Note we split here in a stratified manner to ensure equal ratio of classes in train and test data.\n",
        "diab_x_train, diab_x_test, diab_y_train, diab_y_test = train_test_split(diab_x, diab_y, test_size=0.2, stratify=diab_y)\n",
        "\n",
        "# Scale X only (Y is binary so it's unnecessary).\n",
        "scaler = MinMaxScaler(feature_range=(-1, 1))\n",
        "diab_x_train = scaler.fit_transform(diab_x_train)\n",
        "diab_x_test = scaler.transform(diab_x_test)\n",
        "\n",
        "print(diab_x_train.shape)\n",
        "print(diab_y_train.shape)\n",
        "print(diab_x_test.shape)\n",
        "print(diab_y_test.shape)"
      ],
      "execution_count": 54,
      "outputs": [
        {
          "output_type": "stream",
          "text": [
            "(614, 8)\n",
            "(614,)\n",
            "(154, 8)\n",
            "(154,)\n"
          ],
          "name": "stdout"
        }
      ]
    },
    {
      "cell_type": "code",
      "metadata": {
        "colab": {
          "base_uri": "https://localhost:8080/"
        },
        "id": "e5R0XobQqZDF",
        "outputId": "ddb25e95-b561-4cc0-c102-369bd9413728"
      },
      "source": [
        "print(diab_y.mean())\n",
        "print(diab_y_train.mean())\n",
        "print(diab_y_test.mean())"
      ],
      "execution_count": 33,
      "outputs": [
        {
          "output_type": "stream",
          "text": [
            "0.3489583333333333\n",
            "0.3485342019543974\n",
            "0.35064935064935066\n"
          ],
          "name": "stdout"
        }
      ]
    },
    {
      "cell_type": "code",
      "metadata": {
        "colab": {
          "base_uri": "https://localhost:8080/",
          "height": 447
        },
        "id": "rO7kP1JvslTB",
        "outputId": "59d7d485-853c-4c8a-888f-eeb01b42d39a"
      },
      "source": [
        "dc = DummyClassifier(strategy='stratified')\n",
        "dc.fit(diab_x_train, diab_y_train)\n",
        "\n",
        "y_pred_test = dc.predict(diab_x_test)\n",
        "\n",
        "dc_report = classification_report(diab_y_test, y_pred_test)\n",
        "print(dc_report)\n",
        "\n",
        "dc_conf_mat = confusion_matrix(diab_y_test, y_pred_test, labels=dc.classes_, normalize='all')\n",
        "disp = ConfusionMatrixDisplay(dc_conf_mat, display_labels=dc.classes_)\n",
        "disp.plot()"
      ],
      "execution_count": 38,
      "outputs": [
        {
          "output_type": "stream",
          "text": [
            "              precision    recall  f1-score   support\n",
            "\n",
            "         0.0       0.62      0.63      0.62       100\n",
            "         1.0       0.29      0.28      0.28        54\n",
            "\n",
            "    accuracy                           0.51       154\n",
            "   macro avg       0.45      0.45      0.45       154\n",
            "weighted avg       0.50      0.51      0.50       154\n",
            "\n"
          ],
          "name": "stdout"
        },
        {
          "output_type": "execute_result",
          "data": {
            "text/plain": [
              "<sklearn.metrics._plot.confusion_matrix.ConfusionMatrixDisplay at 0x7f84f3bc6a10>"
            ]
          },
          "metadata": {
            "tags": []
          },
          "execution_count": 38
        },
        {
          "output_type": "display_data",
          "data": {
            "image/png": "[encoded data removed]",
            "text/plain": [
              "<Figure size 432x288 with 2 Axes>"
            ]
          },
          "metadata": {
            "tags": [],
            "needs_background": "light"
          }
        }
      ]
    },
    {
      "cell_type": "code",
      "metadata": {
        "colab": {
          "base_uri": "https://localhost:8080/",
          "height": 447
        },
        "id": "DC0p-F2OslF0",
        "outputId": "3f992f85-1acf-4ead-f59e-762d702c211f"
      },
      "source": [
        "lr = LogisticRegression()\n",
        "lr.fit(diab_x_train, diab_y_train)\n",
        "\n",
        "y_pred_test = lr.predict(diab_x_test)\n",
        "\n",
        "lr_report = classification_report(diab_y_test, y_pred_test)\n",
        "print(lr_report)\n",
        "\n",
        "lr_conf_mat = confusion_matrix(diab_y_test, y_pred_test, labels=lr.classes_, normalize='all')\n",
        "disp = ConfusionMatrixDisplay(lr_conf_mat, display_labels=lr.classes_)\n",
        "disp.plot()"
      ],
      "execution_count": 39,
      "outputs": [
        {
          "output_type": "stream",
          "text": [
            "              precision    recall  f1-score   support\n",
            "\n",
            "         0.0       0.78      0.90      0.83       100\n",
            "         1.0       0.74      0.52      0.61        54\n",
            "\n",
            "    accuracy                           0.77       154\n",
            "   macro avg       0.76      0.71      0.72       154\n",
            "weighted avg       0.76      0.77      0.75       154\n",
            "\n"
          ],
          "name": "stdout"
        },
        {
          "output_type": "execute_result",
          "data": {
            "text/plain": [
              "<sklearn.metrics._plot.confusion_matrix.ConfusionMatrixDisplay at 0x7f84f3aff710>"
            ]
          },
          "metadata": {
            "tags": []
          },
          "execution_count": 39
        },
        {
          "output_type": "display_data",
          "data": {
            "image/png": "[encoded data removed]",
            "text/plain": [
              "<Figure size 432x288 with 2 Axes>"
            ]
          },
          "metadata": {
            "tags": [],
            "needs_background": "light"
          }
        }
      ]
    },
    {
      "cell_type": "code",
      "metadata": {
        "colab": {
          "base_uri": "https://localhost:8080/",
          "height": 447
        },
        "id": "-yZ2bQqtxKGN",
        "outputId": "a8983205-7f72-49b8-86b4-bab218c6056d"
      },
      "source": [
        "dt = DecisionTreeClassifier()\n",
        "dt.fit(diab_x_train, diab_y_train)\n",
        "\n",
        "y_pred_test = dt.predict(diab_x_test)\n",
        "\n",
        "dt_report = classification_report(diab_y_test, y_pred_test)\n",
        "print(dt_report)\n",
        "\n",
        "dt_conf_mat = confusion_matrix(diab_y_test, y_pred_test, labels=dt.classes_, normalize='all')\n",
        "disp = ConfusionMatrixDisplay(dt_conf_mat, display_labels=dt.classes_)\n",
        "disp.plot()"
      ],
      "execution_count": 40,
      "outputs": [
        {
          "output_type": "stream",
          "text": [
            "              precision    recall  f1-score   support\n",
            "\n",
            "         0.0       0.75      0.73      0.74       100\n",
            "         1.0       0.53      0.56      0.54        54\n",
            "\n",
            "    accuracy                           0.67       154\n",
            "   macro avg       0.64      0.64      0.64       154\n",
            "weighted avg       0.67      0.67      0.67       154\n",
            "\n"
          ],
          "name": "stdout"
        },
        {
          "output_type": "execute_result",
          "data": {
            "text/plain": [
              "<sklearn.metrics._plot.confusion_matrix.ConfusionMatrixDisplay at 0x7f84f3aad090>"
            ]
          },
          "metadata": {
            "tags": []
          },
          "execution_count": 40
        },
        {
          "output_type": "display_data",
          "data": {
            "image/png": "[encoded data removed]",
            "text/plain": [
              "<Figure size 432x288 with 2 Axes>"
            ]
          },
          "metadata": {
            "tags": [],
            "needs_background": "light"
          }
        }
      ]
    },
    {
      "cell_type": "code",
      "metadata": {
        "colab": {
          "base_uri": "https://localhost:8080/",
          "height": 447
        },
        "id": "3IoAuLBhsk9q",
        "outputId": "8348cfcd-0512-42c7-f1b7-9e974b7017b2"
      },
      "source": [
        "rf = RandomForestClassifier()\n",
        "rf.fit(diab_x_train, diab_y_train)\n",
        "\n",
        "y_pred_test = rf.predict(diab_x_test)\n",
        "\n",
        "rf_report = classification_report(diab_y_test, y_pred_test)\n",
        "print(rf_report)\n",
        "\n",
        "rf_conf_mat = confusion_matrix(diab_y_test, y_pred_test, labels=rf.classes_, normalize='all')\n",
        "disp = ConfusionMatrixDisplay(rf_conf_mat, display_labels=rf.classes_)\n",
        "disp.plot()"
      ],
      "execution_count": 41,
      "outputs": [
        {
          "output_type": "stream",
          "text": [
            "              precision    recall  f1-score   support\n",
            "\n",
            "         0.0       0.81      0.87      0.84       100\n",
            "         1.0       0.72      0.63      0.67        54\n",
            "\n",
            "    accuracy                           0.79       154\n",
            "   macro avg       0.77      0.75      0.76       154\n",
            "weighted avg       0.78      0.79      0.78       154\n",
            "\n"
          ],
          "name": "stdout"
        },
        {
          "output_type": "execute_result",
          "data": {
            "text/plain": [
              "<sklearn.metrics._plot.confusion_matrix.ConfusionMatrixDisplay at 0x7f84f41dffd0>"
            ]
          },
          "metadata": {
            "tags": []
          },
          "execution_count": 41
        },
        {
          "output_type": "display_data",
          "data": {
            "image/png": "[encoded data removed]",
            "text/plain": [
              "<Figure size 432x288 with 2 Axes>"
            ]
          },
          "metadata": {
            "tags": [],
            "needs_background": "light"
          }
        }
      ]
    },
    {
      "cell_type": "code",
      "metadata": {
        "colab": {
          "base_uri": "https://localhost:8080/",
          "height": 447
        },
        "id": "myXoYbia1_Cn",
        "outputId": "a1c649b7-ccac-4abf-b50c-bc08c6c5e975"
      },
      "source": [
        "params = {\"max_leaf_nodes\": [2, 5, 10, 20, 30], \"max_depth\": [2, 5, 10, 20, None], 'n_estimators': [10, 100, 200]}\n",
        "rf = RandomForestClassifier()\n",
        "rf_cv = GridSearchCV(rf, param_grid=params, cv=5, n_jobs=-1)\n",
        "\n",
        "rf_cv.fit(diab_x_train, diab_y_train)\n",
        "\n",
        "y_pred_test = rf_cv.predict(diab_x_test)\n",
        "\n",
        "rf_cv_report = classification_report(diab_y_test, y_pred_test)\n",
        "print(rf_cv_report)\n",
        "\n",
        "rf_cv_conf_mat = confusion_matrix(diab_y_test, y_pred_test, labels=rf_cv.classes_, normalize='all')\n",
        "disp = ConfusionMatrixDisplay(rf_cv_conf_mat, display_labels=rf_cv.classes_)\n",
        "disp.plot()"
      ],
      "execution_count": 42,
      "outputs": [
        {
          "output_type": "stream",
          "text": [
            "              precision    recall  f1-score   support\n",
            "\n",
            "         0.0       0.72      0.86      0.78       100\n",
            "         1.0       0.59      0.37      0.45        54\n",
            "\n",
            "    accuracy                           0.69       154\n",
            "   macro avg       0.65      0.62      0.62       154\n",
            "weighted avg       0.67      0.69      0.67       154\n",
            "\n"
          ],
          "name": "stdout"
        },
        {
          "output_type": "execute_result",
          "data": {
            "text/plain": [
              "<sklearn.metrics._plot.confusion_matrix.ConfusionMatrixDisplay at 0x7f84f3fbda10>"
            ]
          },
          "metadata": {
            "tags": []
          },
          "execution_count": 42
        },
        {
          "output_type": "display_data",
          "data": {
            "image/png": "[encoded data removed]",
            "text/plain": [
              "<Figure size 432x288 with 2 Axes>"
            ]
          },
          "metadata": {
            "tags": [],
            "needs_background": "light"
          }
        }
      ]
    },
    {
      "cell_type": "markdown",
      "metadata": {
        "id": "QQRzNLkm27va"
      },
      "source": [
        "## Neural Networks"
      ]
    },
    {
      "cell_type": "code",
      "metadata": {
        "id": "FSaEYoOt2_pT"
      },
      "source": [
        "from sklearn.neural_network import MLPRegressor, MLPClassifier"
      ],
      "execution_count": 43,
      "outputs": []
    },
    {
      "cell_type": "code",
      "metadata": {
        "colab": {
          "base_uri": "https://localhost:8080/"
        },
        "id": "REoEVu9m4Fov",
        "outputId": "c42ddcf9-94de-48fa-f65a-e2fc412fde34"
      },
      "source": [
        "nn_reg = MLPRegressor()\n",
        "nn_reg.fit(housing_x_train, housing_y_train.flatten())\n",
        "\n",
        "y_pred_test = nn_reg.predict(housing_x_test)\n",
        "y_pred_test_inv = scaler_y.inverse_transform(y_pred_test.reshape(-1, 1))\n",
        "\n",
        "nn_reg_mse_test = mean_squared_error(housing_y_test, y_pred_test_inv)\n",
        "\n",
        "print(nn_reg_mse_test)"
      ],
      "execution_count": 113,
      "outputs": [
        {
          "output_type": "stream",
          "text": [
            "16.636674510708257\n"
          ],
          "name": "stdout"
        }
      ]
    },
    {
      "cell_type": "code",
      "metadata": {
        "colab": {
          "base_uri": "https://localhost:8080/",
          "height": 447
        },
        "id": "6c8vgC079i2D",
        "outputId": "213331bb-8cd9-468e-9111-0325eeb4132b"
      },
      "source": [
        "nn_clf = MLPClassifier()\n",
        "nn_clf.fit(diab_x_train, diab_y_train)\n",
        "\n",
        "y_pred_test = nn_clf.predict(diab_x_test)\n",
        "\n",
        "nn_clf_report = classification_report(diab_y_test, y_pred_test)\n",
        "print(nn_clf_report)\n",
        "\n",
        "nn_clf_conf_mat = confusion_matrix(diab_y_test, y_pred_test, labels=nn_clf.classes_, normalize='all')\n",
        "disp = ConfusionMatrixDisplay(nn_clf_conf_mat, display_labels=nn_clf.classes_)\n",
        "disp.plot()"
      ],
      "execution_count": 114,
      "outputs": [
        {
          "output_type": "stream",
          "text": [
            "              precision    recall  f1-score   support\n",
            "\n",
            "         0.0       0.76      0.91      0.83       100\n",
            "         1.0       0.74      0.46      0.57        54\n",
            "\n",
            "    accuracy                           0.75       154\n",
            "   macro avg       0.75      0.69      0.70       154\n",
            "weighted avg       0.75      0.75      0.74       154\n",
            "\n"
          ],
          "name": "stdout"
        },
        {
          "output_type": "execute_result",
          "data": {
            "text/plain": [
              "<sklearn.metrics._plot.confusion_matrix.ConfusionMatrixDisplay at 0x7f84f54a5550>"
            ]
          },
          "metadata": {
            "tags": []
          },
          "execution_count": 114
        },
        {
          "output_type": "display_data",
          "data": {
            "image/png": "[encoded data removed]",
            "text/plain": [
              "<Figure size 432x288 with 2 Axes>"
            ]
          },
          "metadata": {
            "tags": [],
            "needs_background": "light"
          }
        }
      ]
    }
  ]
}