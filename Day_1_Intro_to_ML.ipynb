{
  "nbformat": 4,
  "nbformat_minor": 0,
  "metadata": {
    "colab": {
      "name": "Day 1 - Intro to ML.ipynb",
      "provenance": [],
      "collapsed_sections": [],
      "authorship_tag": "ABX9TyOniQm9ORhqAe+Hr+YiCcnV",
      "include_colab_link": true
    },
    "kernelspec": {
      "name": "python3",
      "display_name": "Python 3"
    },
    "language_info": {
      "name": "python"
    }
  },
  "cells": [
    {
      "cell_type": "markdown",
      "metadata": {
        "id": "view-in-github",
        "colab_type": "text"
      },
      "source": [
        "<a href=\"https://colab.research.google.com/github/dmachlanski/ncrm-causality-2021/blob/main/Day_1_Intro_to_ML.ipynb\" target=\"_parent\"><img src=\"https://colab.research.google.com/assets/colab-badge.svg\" alt=\"Open In Colab\"/></a>"
      ]
    },
    {
      "cell_type": "markdown",
      "metadata": {
        "id": "yVUCSRAUn5ih"
      },
      "source": [
        "# Day 1 - Introduction to Machine Learning"
      ]
    },
    {
      "cell_type": "code",
      "metadata": {
        "id": "d3OM0v6sdkp6"
      },
      "source": [
        "import pandas as pd\n",
        "import numpy as np\n",
        "import matplotlib.pyplot as plt\n",
        "\n",
        "from sklearn.linear_model import LinearRegression, LogisticRegression\n",
        "from sklearn.tree import DecisionTreeRegressor, DecisionTreeClassifier\n",
        "from sklearn.ensemble import RandomForestRegressor, RandomForestClassifier\n",
        "\n",
        "from sklearn.model_selection import train_test_split, GridSearchCV\n",
        "from sklearn.metrics import mean_squared_error, classification_report, confusion_matrix"
      ],
      "execution_count": 50,
      "outputs": []
    },
    {
      "cell_type": "markdown",
      "metadata": {
        "id": "ggQlXciCn2P_"
      },
      "source": [
        "## Regression"
      ]
    },
    {
      "cell_type": "code",
      "metadata": {
        "id": "k70IJMt1eahM"
      },
      "source": [
        "arr_housing = np.loadtxt(\"https://raw.githubusercontent.com/dmachlanski/ncrm-causality-2021/main/data/housing.data\")"
      ],
      "execution_count": 23,
      "outputs": []
    },
    {
      "cell_type": "code",
      "metadata": {
        "colab": {
          "base_uri": "https://localhost:8080/"
        },
        "id": "53FZkLcJiYki",
        "outputId": "785c5ef2-8b51-42c7-e81a-07eddc70f6b7"
      },
      "source": [
        "arr_housing.shape"
      ],
      "execution_count": 24,
      "outputs": [
        {
          "output_type": "execute_result",
          "data": {
            "text/plain": [
              "(506, 14)"
            ]
          },
          "metadata": {
            "tags": []
          },
          "execution_count": 24
        }
      ]
    },
    {
      "cell_type": "code",
      "metadata": {
        "colab": {
          "base_uri": "https://localhost:8080/",
          "height": 195
        },
        "id": "r8WLvShHoIRP",
        "outputId": "0a7c6de5-85d6-4864-8b93-2dcd9226adb4"
      },
      "source": [
        "pd_housing = pd.DataFrame(arr_housing)\n",
        "pd_housing.head(5)"
      ],
      "execution_count": 25,
      "outputs": [
        {
          "output_type": "execute_result",
          "data": {
            "text/html": [
              "<div>\n",
              "<style scoped>\n",
              "    .dataframe tbody tr th:only-of-type {\n",
              "        vertical-align: middle;\n",
              "    }\n",
              "\n",
              "    .dataframe tbody tr th {\n",
              "        vertical-align: top;\n",
              "    }\n",
              "\n",
              "    .dataframe thead th {\n",
              "        text-align: right;\n",
              "    }\n",
              "</style>\n",
              "<table border=\"1\" class=\"dataframe\">\n",
              "  <thead>\n",
              "    <tr style=\"text-align: right;\">\n",
              "      <th></th>\n",
              "      <th>0</th>\n",
              "      <th>1</th>\n",
              "      <th>2</th>\n",
              "      <th>3</th>\n",
              "      <th>4</th>\n",
              "      <th>5</th>\n",
              "      <th>6</th>\n",
              "      <th>7</th>\n",
              "      <th>8</th>\n",
              "      <th>9</th>\n",
              "      <th>10</th>\n",
              "      <th>11</th>\n",
              "      <th>12</th>\n",
              "      <th>13</th>\n",
              "    </tr>\n",
              "  </thead>\n",
              "  <tbody>\n",
              "    <tr>\n",
              "      <th>0</th>\n",
              "      <td>0.00632</td>\n",
              "      <td>18.0</td>\n",
              "      <td>2.31</td>\n",
              "      <td>0.0</td>\n",
              "      <td>0.538</td>\n",
              "      <td>6.575</td>\n",
              "      <td>65.2</td>\n",
              "      <td>4.0900</td>\n",
              "      <td>1.0</td>\n",
              "      <td>296.0</td>\n",
              "      <td>15.3</td>\n",
              "      <td>396.90</td>\n",
              "      <td>4.98</td>\n",
              "      <td>24.0</td>\n",
              "    </tr>\n",
              "    <tr>\n",
              "      <th>1</th>\n",
              "      <td>0.02731</td>\n",
              "      <td>0.0</td>\n",
              "      <td>7.07</td>\n",
              "      <td>0.0</td>\n",
              "      <td>0.469</td>\n",
              "      <td>6.421</td>\n",
              "      <td>78.9</td>\n",
              "      <td>4.9671</td>\n",
              "      <td>2.0</td>\n",
              "      <td>242.0</td>\n",
              "      <td>17.8</td>\n",
              "      <td>396.90</td>\n",
              "      <td>9.14</td>\n",
              "      <td>21.6</td>\n",
              "    </tr>\n",
              "    <tr>\n",
              "      <th>2</th>\n",
              "      <td>0.02729</td>\n",
              "      <td>0.0</td>\n",
              "      <td>7.07</td>\n",
              "      <td>0.0</td>\n",
              "      <td>0.469</td>\n",
              "      <td>7.185</td>\n",
              "      <td>61.1</td>\n",
              "      <td>4.9671</td>\n",
              "      <td>2.0</td>\n",
              "      <td>242.0</td>\n",
              "      <td>17.8</td>\n",
              "      <td>392.83</td>\n",
              "      <td>4.03</td>\n",
              "      <td>34.7</td>\n",
              "    </tr>\n",
              "    <tr>\n",
              "      <th>3</th>\n",
              "      <td>0.03237</td>\n",
              "      <td>0.0</td>\n",
              "      <td>2.18</td>\n",
              "      <td>0.0</td>\n",
              "      <td>0.458</td>\n",
              "      <td>6.998</td>\n",
              "      <td>45.8</td>\n",
              "      <td>6.0622</td>\n",
              "      <td>3.0</td>\n",
              "      <td>222.0</td>\n",
              "      <td>18.7</td>\n",
              "      <td>394.63</td>\n",
              "      <td>2.94</td>\n",
              "      <td>33.4</td>\n",
              "    </tr>\n",
              "    <tr>\n",
              "      <th>4</th>\n",
              "      <td>0.06905</td>\n",
              "      <td>0.0</td>\n",
              "      <td>2.18</td>\n",
              "      <td>0.0</td>\n",
              "      <td>0.458</td>\n",
              "      <td>7.147</td>\n",
              "      <td>54.2</td>\n",
              "      <td>6.0622</td>\n",
              "      <td>3.0</td>\n",
              "      <td>222.0</td>\n",
              "      <td>18.7</td>\n",
              "      <td>396.90</td>\n",
              "      <td>5.33</td>\n",
              "      <td>36.2</td>\n",
              "    </tr>\n",
              "  </tbody>\n",
              "</table>\n",
              "</div>"
            ],
            "text/plain": [
              "        0     1     2    3      4      5   ...   8      9     10      11    12    13\n",
              "0  0.00632  18.0  2.31  0.0  0.538  6.575  ...  1.0  296.0  15.3  396.90  4.98  24.0\n",
              "1  0.02731   0.0  7.07  0.0  0.469  6.421  ...  2.0  242.0  17.8  396.90  9.14  21.6\n",
              "2  0.02729   0.0  7.07  0.0  0.469  7.185  ...  2.0  242.0  17.8  392.83  4.03  34.7\n",
              "3  0.03237   0.0  2.18  0.0  0.458  6.998  ...  3.0  222.0  18.7  394.63  2.94  33.4\n",
              "4  0.06905   0.0  2.18  0.0  0.458  7.147  ...  3.0  222.0  18.7  396.90  5.33  36.2\n",
              "\n",
              "[5 rows x 14 columns]"
            ]
          },
          "metadata": {
            "tags": []
          },
          "execution_count": 25
        }
      ]
    },
    {
      "cell_type": "code",
      "metadata": {
        "colab": {
          "base_uri": "https://localhost:8080/"
        },
        "id": "hmYC_PIgokoE",
        "outputId": "efdf9c2c-3561-4fe7-e1e8-8f7484bd59d5"
      },
      "source": [
        "housing_x = housing[:, :-1]\n",
        "housing_y = housing[:, -1]\n",
        "\n",
        "housing_x_train, housing_x_test, housing_y_train, housing_y_test = train_test_split(housing_x, housing_y, test_size=0.3)\n",
        "\n",
        "print(housing_x_train.shape)\n",
        "print(housing_y_train.shape)\n",
        "print(housing_x_test.shape)\n",
        "print(housing_y_test.shape)"
      ],
      "execution_count": 27,
      "outputs": [
        {
          "output_type": "stream",
          "text": [
            "(354, 13)\n",
            "(354,)\n",
            "(152, 13)\n",
            "(152,)\n"
          ],
          "name": "stdout"
        }
      ]
    },
    {
      "cell_type": "code",
      "metadata": {
        "colab": {
          "base_uri": "https://localhost:8080/"
        },
        "id": "aLCsXOCQqJXz",
        "outputId": "392fadba-7916-4f4f-b62b-d49d6637048e"
      },
      "source": [
        "lr = LinearRegression()\n",
        "lr.fit(housing_x_train, housing_y_train)\n",
        "\n",
        "y_pred_train = lr.predict(housing_x_train)\n",
        "y_pred_test = lr.predict(housing_x_test)\n",
        "\n",
        "lr_mse_train = mean_squared_error(housing_y_train, y_pred_train)\n",
        "lr_mse_test = mean_squared_error(housing_y_test, y_pred_test)\n",
        "\n",
        "print(lr_mse_train)\n",
        "print(lr_mse_test)"
      ],
      "execution_count": 29,
      "outputs": [
        {
          "output_type": "stream",
          "text": [
            "22.55645492042014\n",
            "21.442038036541465\n"
          ],
          "name": "stdout"
        }
      ]
    },
    {
      "cell_type": "code",
      "metadata": {
        "colab": {
          "base_uri": "https://localhost:8080/"
        },
        "id": "dR74DXjqqJLU",
        "outputId": "2469f191-8cb4-4736-c2dd-f242aa0eb8e4"
      },
      "source": [
        "dt = DecisionTreeRegressor()\n",
        "dt.fit(housing_x_train, housing_y_train)\n",
        "\n",
        "y_pred_train = dt.predict(housing_x_train)\n",
        "y_pred_test = dt.predict(housing_x_test)\n",
        "\n",
        "dt_mse_train = mean_squared_error(housing_y_train, y_pred_train)\n",
        "dt_mse_test = mean_squared_error(housing_y_test, y_pred_test)\n",
        "\n",
        "print(dt_mse_train)\n",
        "print(dt_mse_test)"
      ],
      "execution_count": 30,
      "outputs": [
        {
          "output_type": "stream",
          "text": [
            "0.0\n",
            "21.88059210526316\n"
          ],
          "name": "stdout"
        }
      ]
    },
    {
      "cell_type": "code",
      "metadata": {
        "colab": {
          "base_uri": "https://localhost:8080/"
        },
        "id": "xzhworeeokmD",
        "outputId": "573628ee-ec02-4042-b8ad-ecdacdc80741"
      },
      "source": [
        "rf = RandomForestRegressor()\n",
        "rf.fit(housing_x_train, housing_y_train)\n",
        "\n",
        "y_pred_train = rf.predict(housing_x_train)\n",
        "y_pred_test = rf.predict(housing_x_test)\n",
        "\n",
        "rf_mse_train = mean_squared_error(housing_y_train, y_pred_train)\n",
        "rf_mse_test = mean_squared_error(housing_y_test, y_pred_test)\n",
        "\n",
        "print(rf_mse_train)\n",
        "print(rf_mse_test)"
      ],
      "execution_count": 31,
      "outputs": [
        {
          "output_type": "stream",
          "text": [
            "1.1777602768361577\n",
            "13.959\n"
          ],
          "name": "stdout"
        }
      ]
    },
    {
      "cell_type": "code",
      "metadata": {
        "colab": {
          "base_uri": "https://localhost:8080/"
        },
        "id": "J5ocoJaDsvWJ",
        "outputId": "e102e562-f2f8-4db7-9e29-a5b8644630a9"
      },
      "source": [
        "params = {\"max_leaf_nodes\": [2, 5, 10, 20, 30], \"max_depth\": [2, 5, 10, 20, None], 'n_estimators': [10, 100, 200]}\n",
        "rf = RandomForestRegressor()\n",
        "rf_cv = GridSearchCV(rf, param_grid=params, cv=5, n_jobs=-1)\n",
        "\n",
        "rf_cv.fit(housing_x_train, housing_y_train)\n",
        "\n",
        "print(rf_cv.best_params_)\n",
        "\n",
        "y_pred_train = rf_cv.predict(housing_x_train)\n",
        "y_pred_test = rf_cv.predict(housing_x_test)\n",
        "\n",
        "rf_cv_mse_train = mean_squared_error(housing_y_train, y_pred_train)\n",
        "rf_cv_mse_test = mean_squared_error(housing_y_test, y_pred_test)\n",
        "\n",
        "print(rf_cv_mse_train)\n",
        "print(rf_cv_mse_test)"
      ],
      "execution_count": 37,
      "outputs": [
        {
          "output_type": "stream",
          "text": [
            "{'max_depth': None, 'max_leaf_nodes': 30, 'n_estimators': 200}\n",
            "3.046443497455265\n",
            "14.734961572716294\n"
          ],
          "name": "stdout"
        }
      ]
    },
    {
      "cell_type": "markdown",
      "metadata": {
        "id": "TWaVg6T5n-EH"
      },
      "source": [
        "## Classification"
      ]
    },
    {
      "cell_type": "code",
      "metadata": {
        "id": "JBDZPNy1kldP"
      },
      "source": [
        "df_diab = pd.read_csv(\"https://raw.githubusercontent.com/dmachlanski/ncrm-causality-2021/main/data/pima-indians-diabetes.csv\", delimiter=',', header=None)"
      ],
      "execution_count": 45,
      "outputs": []
    },
    {
      "cell_type": "code",
      "metadata": {
        "colab": {
          "base_uri": "https://localhost:8080/"
        },
        "id": "qqsjMm4bwW3K",
        "outputId": "5ae575a4-f26b-40aa-960d-e440d42e8e2c"
      },
      "source": [
        "df_diab.shape"
      ],
      "execution_count": 46,
      "outputs": [
        {
          "output_type": "execute_result",
          "data": {
            "text/plain": [
              "(768, 9)"
            ]
          },
          "metadata": {
            "tags": []
          },
          "execution_count": 46
        }
      ]
    },
    {
      "cell_type": "code",
      "metadata": {
        "colab": {
          "base_uri": "https://localhost:8080/",
          "height": 195
        },
        "id": "r-Fww0Vsmp1m",
        "outputId": "f5abbe65-b780-467e-8774-b3b38b16e4ca"
      },
      "source": [
        "df_diab.head(5)"
      ],
      "execution_count": 48,
      "outputs": [
        {
          "output_type": "execute_result",
          "data": {
            "text/html": [
              "<div>\n",
              "<style scoped>\n",
              "    .dataframe tbody tr th:only-of-type {\n",
              "        vertical-align: middle;\n",
              "    }\n",
              "\n",
              "    .dataframe tbody tr th {\n",
              "        vertical-align: top;\n",
              "    }\n",
              "\n",
              "    .dataframe thead th {\n",
              "        text-align: right;\n",
              "    }\n",
              "</style>\n",
              "<table border=\"1\" class=\"dataframe\">\n",
              "  <thead>\n",
              "    <tr style=\"text-align: right;\">\n",
              "      <th></th>\n",
              "      <th>0</th>\n",
              "      <th>1</th>\n",
              "      <th>2</th>\n",
              "      <th>3</th>\n",
              "      <th>4</th>\n",
              "      <th>5</th>\n",
              "      <th>6</th>\n",
              "      <th>7</th>\n",
              "      <th>8</th>\n",
              "    </tr>\n",
              "  </thead>\n",
              "  <tbody>\n",
              "    <tr>\n",
              "      <th>0</th>\n",
              "      <td>6</td>\n",
              "      <td>148</td>\n",
              "      <td>72</td>\n",
              "      <td>35</td>\n",
              "      <td>0</td>\n",
              "      <td>33.6</td>\n",
              "      <td>0.627</td>\n",
              "      <td>50</td>\n",
              "      <td>1</td>\n",
              "    </tr>\n",
              "    <tr>\n",
              "      <th>1</th>\n",
              "      <td>1</td>\n",
              "      <td>85</td>\n",
              "      <td>66</td>\n",
              "      <td>29</td>\n",
              "      <td>0</td>\n",
              "      <td>26.6</td>\n",
              "      <td>0.351</td>\n",
              "      <td>31</td>\n",
              "      <td>0</td>\n",
              "    </tr>\n",
              "    <tr>\n",
              "      <th>2</th>\n",
              "      <td>8</td>\n",
              "      <td>183</td>\n",
              "      <td>64</td>\n",
              "      <td>0</td>\n",
              "      <td>0</td>\n",
              "      <td>23.3</td>\n",
              "      <td>0.672</td>\n",
              "      <td>32</td>\n",
              "      <td>1</td>\n",
              "    </tr>\n",
              "    <tr>\n",
              "      <th>3</th>\n",
              "      <td>1</td>\n",
              "      <td>89</td>\n",
              "      <td>66</td>\n",
              "      <td>23</td>\n",
              "      <td>94</td>\n",
              "      <td>28.1</td>\n",
              "      <td>0.167</td>\n",
              "      <td>21</td>\n",
              "      <td>0</td>\n",
              "    </tr>\n",
              "    <tr>\n",
              "      <th>4</th>\n",
              "      <td>0</td>\n",
              "      <td>137</td>\n",
              "      <td>40</td>\n",
              "      <td>35</td>\n",
              "      <td>168</td>\n",
              "      <td>43.1</td>\n",
              "      <td>2.288</td>\n",
              "      <td>33</td>\n",
              "      <td>1</td>\n",
              "    </tr>\n",
              "  </tbody>\n",
              "</table>\n",
              "</div>"
            ],
            "text/plain": [
              "   0    1   2   3    4     5      6   7  8\n",
              "0  6  148  72  35    0  33.6  0.627  50  1\n",
              "1  1   85  66  29    0  26.6  0.351  31  0\n",
              "2  8  183  64   0    0  23.3  0.672  32  1\n",
              "3  1   89  66  23   94  28.1  0.167  21  0\n",
              "4  0  137  40  35  168  43.1  2.288  33  1"
            ]
          },
          "metadata": {
            "tags": []
          },
          "execution_count": 48
        }
      ]
    },
    {
      "cell_type": "code",
      "metadata": {
        "colab": {
          "base_uri": "https://localhost:8080/"
        },
        "id": "6SWGzUW-mrf1",
        "outputId": "9911aa76-8c9e-4455-d5d6-5a5a09eb9eb8"
      },
      "source": [
        "np.unique(df_diab[8])"
      ],
      "execution_count": 49,
      "outputs": [
        {
          "output_type": "execute_result",
          "data": {
            "text/plain": [
              "array([0, 1])"
            ]
          },
          "metadata": {
            "tags": []
          },
          "execution_count": 49
        }
      ]
    },
    {
      "cell_type": "code",
      "metadata": {
        "id": "NhvOcTJdwnvs"
      },
      "source": [
        "# TODO:\n",
        "# - check class balance (plot)\n",
        "# - train models\n",
        "# - use classification_report (and maybe confusion_matrix? - plot)"
      ],
      "execution_count": null,
      "outputs": []
    }
  ]
}