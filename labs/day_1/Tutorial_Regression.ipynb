{
  "nbformat": 4,
  "nbformat_minor": 0,
  "metadata": {
    "colab": {
      "name": "Tutorial Regression.ipynb",
      "provenance": [],
      "collapsed_sections": [
        "jB-zAUUWz_Cj",
        "JXlMeeHj1oSO",
        "X9mP-wnM2h3m",
        "ljP4_G5yVn8P"
      ],
      "authorship_tag": "ABX9TyOwngeqkCAXND156gjf0AYN",
      "include_colab_link": true
    },
    "kernelspec": {
      "name": "python3",
      "display_name": "Python 3"
    },
    "language_info": {
      "name": "python"
    }
  },
  "cells": [
    {
      "cell_type": "markdown",
      "metadata": {
        "id": "view-in-github",
        "colab_type": "text"
      },
      "source": [
        "<a href=\"https://colab.research.google.com/github/dmachlanski/ncrm-causality-2021/blob/main/labs/day_1/Tutorial_Regression.ipynb\" target=\"_parent\"><img src=\"https://colab.research.google.com/assets/colab-badge.svg\" alt=\"Open In Colab\"/></a>"
      ]
    },
    {
      "cell_type": "markdown",
      "metadata": {
        "id": "MkhxK_TUwbny"
      },
      "source": [
        "# Regression - tutorial\n",
        "\n",
        "This is a guided example that involves a regression problem - [abalone](https://archive.ics.uci.edu/ml/datasets/abalone) dataset.\n",
        "\n",
        "## The plan\n",
        "1. Import necessary packages.\n",
        "2. Load and explore the dataset.\n",
        "3. Perform data pre-processing (transformations, scaling, splitting).\n",
        "4. Train and evaluate the models.\n",
        "5. Hyperparameter optimisation."
      ]
    },
    {
      "cell_type": "markdown",
      "metadata": {
        "id": "jB-zAUUWz_Cj"
      },
      "source": [
        "## Step 1 - packages"
      ]
    },
    {
      "cell_type": "code",
      "metadata": {
        "id": "WrTw6jFyIjQh"
      },
      "source": [
        "import pandas as pd\n",
        "import numpy as np\n",
        "import matplotlib.pyplot as plt\n",
        "import math\n",
        "\n",
        "from sklearn.linear_model import LinearRegression\n",
        "from sklearn.tree import DecisionTreeRegressor\n",
        "from sklearn.ensemble import RandomForestRegressor\n",
        "from sklearn.dummy import DummyRegressor\n",
        "\n",
        "from sklearn.model_selection import train_test_split, cross_val_score, GridSearchCV\n",
        "from sklearn.metrics import mean_squared_error\n",
        "from sklearn.preprocessing import MinMaxScaler"
      ],
      "execution_count": 1,
      "outputs": []
    },
    {
      "cell_type": "markdown",
      "metadata": {
        "id": "TZNEARHnyeOe"
      },
      "source": [
        "## Step 2 - data"
      ]
    },
    {
      "cell_type": "markdown",
      "metadata": {
        "id": "-n7sXQ3L5gj7"
      },
      "source": [
        "More information about the covariates:\n",
        "\n",
        "| Name           | Data Type  | Measurement Unit | Description                 |\n",
        "|----------------|------------|------------------|-----------------------------|\n",
        "| Sex            | nominal    | -                | M, F, and I (infant)        |\n",
        "| Length         | continuous | mm               | longest shell measurement   |\n",
        "| Diameter       | continuous | mm               | perpendicular to length     |\n",
        "| Height         | continuous | mm               | with meat in shell          |\n",
        "| Whole weight   | continuous | grams            | whole abalone               |\n",
        "| Shucked weight | continuous | grams            | weight of meat              |\n",
        "| Viscera weight | continuous | grams            | gut weight (after bleeding) |\n",
        "| Shell weight   | continuous | grams            | after being dried           |\n",
        "| Rings          | integer    | -                | +1.5 gives the age in years |"
      ]
    },
    {
      "cell_type": "code",
      "metadata": {
        "id": "hgP5KHl7HmJL"
      },
      "source": [
        "df_data = pd.read_csv('https://raw.githubusercontent.com/dmachlanski/ncrm-causality-2021/main/labs/day_1/data/abalone.csv', header=None)"
      ],
      "execution_count": 2,
      "outputs": []
    },
    {
      "cell_type": "code",
      "metadata": {
        "colab": {
          "base_uri": "https://localhost:8080/",
          "height": 202
        },
        "id": "bv2I8RnbH2j9",
        "outputId": "00736325-7a68-4939-b9cf-c3e1c78f38b3"
      },
      "source": [
        "df_data.head()"
      ],
      "execution_count": 3,
      "outputs": [
        {
          "output_type": "execute_result",
          "data": {
            "text/html": [
              "<div>\n",
              "<style scoped>\n",
              "    .dataframe tbody tr th:only-of-type {\n",
              "        vertical-align: middle;\n",
              "    }\n",
              "\n",
              "    .dataframe tbody tr th {\n",
              "        vertical-align: top;\n",
              "    }\n",
              "\n",
              "    .dataframe thead th {\n",
              "        text-align: right;\n",
              "    }\n",
              "</style>\n",
              "<table border=\"1\" class=\"dataframe\">\n",
              "  <thead>\n",
              "    <tr style=\"text-align: right;\">\n",
              "      <th></th>\n",
              "      <th>0</th>\n",
              "      <th>1</th>\n",
              "      <th>2</th>\n",
              "      <th>3</th>\n",
              "      <th>4</th>\n",
              "      <th>5</th>\n",
              "      <th>6</th>\n",
              "      <th>7</th>\n",
              "      <th>8</th>\n",
              "    </tr>\n",
              "  </thead>\n",
              "  <tbody>\n",
              "    <tr>\n",
              "      <th>0</th>\n",
              "      <td>M</td>\n",
              "      <td>0.455</td>\n",
              "      <td>0.365</td>\n",
              "      <td>0.095</td>\n",
              "      <td>0.5140</td>\n",
              "      <td>0.2245</td>\n",
              "      <td>0.1010</td>\n",
              "      <td>0.150</td>\n",
              "      <td>15</td>\n",
              "    </tr>\n",
              "    <tr>\n",
              "      <th>1</th>\n",
              "      <td>M</td>\n",
              "      <td>0.350</td>\n",
              "      <td>0.265</td>\n",
              "      <td>0.090</td>\n",
              "      <td>0.2255</td>\n",
              "      <td>0.0995</td>\n",
              "      <td>0.0485</td>\n",
              "      <td>0.070</td>\n",
              "      <td>7</td>\n",
              "    </tr>\n",
              "    <tr>\n",
              "      <th>2</th>\n",
              "      <td>F</td>\n",
              "      <td>0.530</td>\n",
              "      <td>0.420</td>\n",
              "      <td>0.135</td>\n",
              "      <td>0.6770</td>\n",
              "      <td>0.2565</td>\n",
              "      <td>0.1415</td>\n",
              "      <td>0.210</td>\n",
              "      <td>9</td>\n",
              "    </tr>\n",
              "    <tr>\n",
              "      <th>3</th>\n",
              "      <td>M</td>\n",
              "      <td>0.440</td>\n",
              "      <td>0.365</td>\n",
              "      <td>0.125</td>\n",
              "      <td>0.5160</td>\n",
              "      <td>0.2155</td>\n",
              "      <td>0.1140</td>\n",
              "      <td>0.155</td>\n",
              "      <td>10</td>\n",
              "    </tr>\n",
              "    <tr>\n",
              "      <th>4</th>\n",
              "      <td>I</td>\n",
              "      <td>0.330</td>\n",
              "      <td>0.255</td>\n",
              "      <td>0.080</td>\n",
              "      <td>0.2050</td>\n",
              "      <td>0.0895</td>\n",
              "      <td>0.0395</td>\n",
              "      <td>0.055</td>\n",
              "      <td>7</td>\n",
              "    </tr>\n",
              "  </tbody>\n",
              "</table>\n",
              "</div>"
            ],
            "text/plain": [
              "   0      1      2      3       4       5       6      7   8\n",
              "0  M  0.455  0.365  0.095  0.5140  0.2245  0.1010  0.150  15\n",
              "1  M  0.350  0.265  0.090  0.2255  0.0995  0.0485  0.070   7\n",
              "2  F  0.530  0.420  0.135  0.6770  0.2565  0.1415  0.210   9\n",
              "3  M  0.440  0.365  0.125  0.5160  0.2155  0.1140  0.155  10\n",
              "4  I  0.330  0.255  0.080  0.2050  0.0895  0.0395  0.055   7"
            ]
          },
          "metadata": {
            "tags": []
          },
          "execution_count": 3
        }
      ]
    },
    {
      "cell_type": "code",
      "metadata": {
        "id": "7vMC3LiFJiKN"
      },
      "source": [
        "def _trim_axs(axs, N):\n",
        "    axs = axs.flat\n",
        "    for ax in axs[N:]:\n",
        "        ax.remove()\n",
        "    return axs[:N]\n",
        "\n",
        "def plot_dist(data, bins=10):\n",
        "    sq = math.sqrt(data.shape[1])\n",
        "    n_cols = math.ceil(sq)\n",
        "    n_rows = math.floor(sq)\n",
        "\n",
        "    fig, axs = plt.subplots(n_rows, n_cols, figsize=(10, 8))\n",
        "    axs = _trim_axs(axs, data.shape[1])\n",
        "\n",
        "    for i, ax in enumerate(axs):\n",
        "        ax.hist(data[:, i], bins=bins)\n",
        "    \n",
        "    fig.tight_layout()\n",
        "    plt.show()"
      ],
      "execution_count": 4,
      "outputs": []
    },
    {
      "cell_type": "code",
      "metadata": {
        "colab": {
          "base_uri": "https://localhost:8080/",
          "height": 585
        },
        "id": "rK2A6hoHJwIA",
        "outputId": "4f0f05ab-f28a-4dca-e72f-c1bdb6ce5c33"
      },
      "source": [
        "plot_dist(df_data.to_numpy(), 20)"
      ],
      "execution_count": 5,
      "outputs": [
        {
          "output_type": "display_data",
          "data": {
            "image/png": "[encoded data removed]",
            "text/plain": [
              "<Figure size 720x576 with 9 Axes>"
            ]
          },
          "metadata": {
            "tags": [],
            "needs_background": "light"
          }
        }
      ]
    },
    {
      "cell_type": "markdown",
      "metadata": {
        "id": "JXlMeeHj1oSO"
      },
      "source": [
        "## Step 3 - data pre-processing"
      ]
    },
    {
      "cell_type": "markdown",
      "metadata": {
        "id": "cKVTC4T65pcW"
      },
      "source": [
        "1. Transform categorical variable 'Sex' to one-hot representation.\n",
        "2. Separate background covariates (X) from the target (y).\n",
        "3. Split into training and testing data.\n",
        "4. Scale the data."
      ]
    },
    {
      "cell_type": "code",
      "metadata": {
        "colab": {
          "base_uri": "https://localhost:8080/",
          "height": 202
        },
        "id": "wiNt8PcBIiNo",
        "outputId": "1c232a2f-ed1d-47f1-fab4-0a010b842149"
      },
      "source": [
        "df_data_new = pd.get_dummies(df_data, columns=[0])\n",
        "df_data_new.head()"
      ],
      "execution_count": 6,
      "outputs": [
        {
          "output_type": "execute_result",
          "data": {
            "text/html": [
              "<div>\n",
              "<style scoped>\n",
              "    .dataframe tbody tr th:only-of-type {\n",
              "        vertical-align: middle;\n",
              "    }\n",
              "\n",
              "    .dataframe tbody tr th {\n",
              "        vertical-align: top;\n",
              "    }\n",
              "\n",
              "    .dataframe thead th {\n",
              "        text-align: right;\n",
              "    }\n",
              "</style>\n",
              "<table border=\"1\" class=\"dataframe\">\n",
              "  <thead>\n",
              "    <tr style=\"text-align: right;\">\n",
              "      <th></th>\n",
              "      <th>1</th>\n",
              "      <th>2</th>\n",
              "      <th>3</th>\n",
              "      <th>4</th>\n",
              "      <th>5</th>\n",
              "      <th>6</th>\n",
              "      <th>7</th>\n",
              "      <th>8</th>\n",
              "      <th>0_F</th>\n",
              "      <th>0_I</th>\n",
              "      <th>0_M</th>\n",
              "    </tr>\n",
              "  </thead>\n",
              "  <tbody>\n",
              "    <tr>\n",
              "      <th>0</th>\n",
              "      <td>0.455</td>\n",
              "      <td>0.365</td>\n",
              "      <td>0.095</td>\n",
              "      <td>0.5140</td>\n",
              "      <td>0.2245</td>\n",
              "      <td>0.1010</td>\n",
              "      <td>0.150</td>\n",
              "      <td>15</td>\n",
              "      <td>0</td>\n",
              "      <td>0</td>\n",
              "      <td>1</td>\n",
              "    </tr>\n",
              "    <tr>\n",
              "      <th>1</th>\n",
              "      <td>0.350</td>\n",
              "      <td>0.265</td>\n",
              "      <td>0.090</td>\n",
              "      <td>0.2255</td>\n",
              "      <td>0.0995</td>\n",
              "      <td>0.0485</td>\n",
              "      <td>0.070</td>\n",
              "      <td>7</td>\n",
              "      <td>0</td>\n",
              "      <td>0</td>\n",
              "      <td>1</td>\n",
              "    </tr>\n",
              "    <tr>\n",
              "      <th>2</th>\n",
              "      <td>0.530</td>\n",
              "      <td>0.420</td>\n",
              "      <td>0.135</td>\n",
              "      <td>0.6770</td>\n",
              "      <td>0.2565</td>\n",
              "      <td>0.1415</td>\n",
              "      <td>0.210</td>\n",
              "      <td>9</td>\n",
              "      <td>1</td>\n",
              "      <td>0</td>\n",
              "      <td>0</td>\n",
              "    </tr>\n",
              "    <tr>\n",
              "      <th>3</th>\n",
              "      <td>0.440</td>\n",
              "      <td>0.365</td>\n",
              "      <td>0.125</td>\n",
              "      <td>0.5160</td>\n",
              "      <td>0.2155</td>\n",
              "      <td>0.1140</td>\n",
              "      <td>0.155</td>\n",
              "      <td>10</td>\n",
              "      <td>0</td>\n",
              "      <td>0</td>\n",
              "      <td>1</td>\n",
              "    </tr>\n",
              "    <tr>\n",
              "      <th>4</th>\n",
              "      <td>0.330</td>\n",
              "      <td>0.255</td>\n",
              "      <td>0.080</td>\n",
              "      <td>0.2050</td>\n",
              "      <td>0.0895</td>\n",
              "      <td>0.0395</td>\n",
              "      <td>0.055</td>\n",
              "      <td>7</td>\n",
              "      <td>0</td>\n",
              "      <td>1</td>\n",
              "      <td>0</td>\n",
              "    </tr>\n",
              "  </tbody>\n",
              "</table>\n",
              "</div>"
            ],
            "text/plain": [
              "       1      2      3       4       5       6      7   8  0_F  0_I  0_M\n",
              "0  0.455  0.365  0.095  0.5140  0.2245  0.1010  0.150  15    0    0    1\n",
              "1  0.350  0.265  0.090  0.2255  0.0995  0.0485  0.070   7    0    0    1\n",
              "2  0.530  0.420  0.135  0.6770  0.2565  0.1415  0.210   9    1    0    0\n",
              "3  0.440  0.365  0.125  0.5160  0.2155  0.1140  0.155  10    0    0    1\n",
              "4  0.330  0.255  0.080  0.2050  0.0895  0.0395  0.055   7    0    1    0"
            ]
          },
          "metadata": {
            "tags": []
          },
          "execution_count": 6
        }
      ]
    },
    {
      "cell_type": "code",
      "metadata": {
        "colab": {
          "base_uri": "https://localhost:8080/",
          "height": 585
        },
        "id": "UGvk7nROOU1r",
        "outputId": "67ffe032-f4b6-4326-84fc-6c1f1ec4a7a6"
      },
      "source": [
        "plot_dist(df_data_new.to_numpy(), 20)"
      ],
      "execution_count": 7,
      "outputs": [
        {
          "output_type": "display_data",
          "data": {
            "image/png": "[encoded data removed]",
            "text/plain": [
              "<Figure size 720x576 with 11 Axes>"
            ]
          },
          "metadata": {
            "tags": [],
            "needs_background": "light"
          }
        }
      ]
    },
    {
      "cell_type": "code",
      "metadata": {
        "id": "RiLlctTuPmAE"
      },
      "source": [
        "X = df_data_new.drop(columns=[8]).to_numpy()\n",
        "y = df_data_new[8].to_numpy()"
      ],
      "execution_count": 8,
      "outputs": []
    },
    {
      "cell_type": "code",
      "metadata": {
        "colab": {
          "base_uri": "https://localhost:8080/"
        },
        "id": "9Fi4Y7AkP1JZ",
        "outputId": "50dae5f3-a281-4256-d107-383323ebbcfa"
      },
      "source": [
        "print(X.shape)\n",
        "print(y.shape)"
      ],
      "execution_count": 9,
      "outputs": [
        {
          "output_type": "stream",
          "text": [
            "(4177, 10)\n",
            "(4177,)\n"
          ],
          "name": "stdout"
        }
      ]
    },
    {
      "cell_type": "code",
      "metadata": {
        "colab": {
          "base_uri": "https://localhost:8080/"
        },
        "id": "J2bcBJ0OSmSM",
        "outputId": "49991dcf-a25f-4131-9087-12b8f76a6111"
      },
      "source": [
        "y = y.reshape(-1, 1)\n",
        "print(y.shape)"
      ],
      "execution_count": 10,
      "outputs": [
        {
          "output_type": "stream",
          "text": [
            "(4177, 1)\n"
          ],
          "name": "stdout"
        }
      ]
    },
    {
      "cell_type": "code",
      "metadata": {
        "colab": {
          "base_uri": "https://localhost:8080/"
        },
        "id": "7RWgTKqTQWXy",
        "outputId": "472bb7bc-fe4e-4668-852e-1dfa34f11993"
      },
      "source": [
        "X_train, X_test, y_train, y_test = train_test_split(X, y, test_size=0.2)\n",
        "\n",
        "scaler_x = MinMaxScaler()\n",
        "X_train = scaler_x.fit_transform(X_train)\n",
        "X_test = scaler_x.transform(X_test)\n",
        "\n",
        "print(X_train.shape)\n",
        "print(y_train.shape)\n",
        "print(X_test.shape)\n",
        "print(y_test.shape)"
      ],
      "execution_count": 11,
      "outputs": [
        {
          "output_type": "stream",
          "text": [
            "(3341, 10)\n",
            "(3341, 1)\n",
            "(836, 10)\n",
            "(836, 1)\n"
          ],
          "name": "stdout"
        }
      ]
    },
    {
      "cell_type": "markdown",
      "metadata": {
        "id": "X9mP-wnM2h3m"
      },
      "source": [
        "## Step 4 - train the models"
      ]
    },
    {
      "cell_type": "markdown",
      "metadata": {
        "id": "wRJGWntz5tyW"
      },
      "source": [
        "1. Dummy model (sanity check).\n",
        "2. Linear regression.\n",
        "3. Decision tree.\n",
        "4. Random forest.\n",
        "\n",
        "For each of the above, we do the following:\n",
        "1. Fit the model on the training data (X and y).\n",
        "2. Make predictions for the test data (X).\n",
        "3. Compare obtained predictions to the ground truth (y).\n",
        "\n",
        "We will use the Mean Squared Error (MSE) metric to evaluate our models' performance.\n",
        "\n",
        "$$MSE = \\frac{1}{n} \\sum \\limits_{i=1}^{n}(y_i - \\hat{y}_i)^2$$"
      ]
    },
    {
      "cell_type": "code",
      "metadata": {
        "colab": {
          "base_uri": "https://localhost:8080/"
        },
        "id": "G6xNAJDWSawh",
        "outputId": "0d5b2281-77e2-4db3-8378-f8150b111e6a"
      },
      "source": [
        "dr = DummyRegressor()\n",
        "dr.fit(X_train, y_train)\n",
        "\n",
        "y_pred_test = dr.predict(X_test)\n",
        "\n",
        "dr_mse_test = mean_squared_error(y_test, y_pred_test)\n",
        "\n",
        "print(dr_mse_test)"
      ],
      "execution_count": 12,
      "outputs": [
        {
          "output_type": "stream",
          "text": [
            "9.755737315260172\n"
          ],
          "name": "stdout"
        }
      ]
    },
    {
      "cell_type": "code",
      "metadata": {
        "colab": {
          "base_uri": "https://localhost:8080/"
        },
        "id": "5ChjK4HCVMbf",
        "outputId": "b0335a06-4150-4d76-ed25-892f4b75843f"
      },
      "source": [
        "lr = LinearRegression()\n",
        "lr.fit(X_train, y_train)\n",
        "\n",
        "y_pred_test = lr.predict(X_test)\n",
        "\n",
        "lr_mse_test = mean_squared_error(y_test, y_pred_test)\n",
        "\n",
        "print(lr_mse_test)"
      ],
      "execution_count": 13,
      "outputs": [
        {
          "output_type": "stream",
          "text": [
            "4.218405641722337\n"
          ],
          "name": "stdout"
        }
      ]
    },
    {
      "cell_type": "code",
      "metadata": {
        "colab": {
          "base_uri": "https://localhost:8080/"
        },
        "id": "p7ndqhrvU_vy",
        "outputId": "4858570d-571a-4e71-eefe-c418104f0529"
      },
      "source": [
        "dt = DecisionTreeRegressor()\n",
        "dt.fit(X_train, y_train)\n",
        "\n",
        "y_pred_test = dt.predict(X_test)\n",
        "\n",
        "dt_mse_test = mean_squared_error(y_test, y_pred_test)\n",
        "\n",
        "print(dt_mse_test)"
      ],
      "execution_count": 14,
      "outputs": [
        {
          "output_type": "stream",
          "text": [
            "8.547846889952153\n"
          ],
          "name": "stdout"
        }
      ]
    },
    {
      "cell_type": "code",
      "metadata": {
        "colab": {
          "base_uri": "https://localhost:8080/"
        },
        "id": "ywD3Ib7PVbm2",
        "outputId": "8eca0a48-59bd-4e35-ac05-b9ae852ee301"
      },
      "source": [
        "rf = RandomForestRegressor()\n",
        "rf.fit(X_train, y_train.flatten())\n",
        "\n",
        "y_pred_test = rf.predict(X_test)\n",
        "\n",
        "rf_mse_test = mean_squared_error(y_test, y_pred_test)\n",
        "\n",
        "print(rf_mse_test)"
      ],
      "execution_count": 15,
      "outputs": [
        {
          "output_type": "stream",
          "text": [
            "3.9678339712918658\n"
          ],
          "name": "stdout"
        }
      ]
    },
    {
      "cell_type": "markdown",
      "metadata": {
        "id": "6-QVccW73xyi"
      },
      "source": [
        "Compare all obtained results to each other"
      ]
    },
    {
      "cell_type": "code",
      "metadata": {
        "colab": {
          "base_uri": "https://localhost:8080/"
        },
        "id": "b4jE1Zfb3w5v",
        "outputId": "8908ba70-b9e4-440d-fecf-ed55e31acd87"
      },
      "source": [
        "print(f'Dummy: {dr_mse_test}')\n",
        "print(f'LR: {lr_mse_test}')\n",
        "print(f'DT: {dt_mse_test}')\n",
        "print(f'RF: {rf_mse_test}')"
      ],
      "execution_count": 17,
      "outputs": [
        {
          "output_type": "stream",
          "text": [
            "Dummy: 9.755737315260172\n",
            "LR: 4.218405641722337\n",
            "DT: 8.547846889952153\n",
            "RF: 3.9678339712918658\n"
          ],
          "name": "stdout"
        }
      ]
    },
    {
      "cell_type": "markdown",
      "metadata": {
        "id": "ljP4_G5yVn8P"
      },
      "source": [
        "## Step 5 - hyperparameter tuning"
      ]
    },
    {
      "cell_type": "markdown",
      "metadata": {
        "id": "c7YY3J3253qk"
      },
      "source": [
        "1. Manual search via cross-validation.\n",
        "2. More automated approach with GridSearchCV."
      ]
    },
    {
      "cell_type": "markdown",
      "metadata": {
        "id": "FKcscAy954VN"
      },
      "source": [
        "![](https://scikit-learn.org/stable/_images/grid_search_cross_validation.png)"
      ]
    },
    {
      "cell_type": "markdown",
      "metadata": {
        "id": "ht8BCWrT6O-M"
      },
      "source": [
        "### Manual"
      ]
    },
    {
      "cell_type": "code",
      "metadata": {
        "colab": {
          "base_uri": "https://localhost:8080/"
        },
        "id": "pYCOZBrhVm4x",
        "outputId": "2adcb4b4-7623-4520-c4a0-8096767c5d7f"
      },
      "source": [
        "# max_depth, max_leaf_nodes\n",
        "dt_cv = DecisionTreeRegressor()\n",
        "score = cross_val_score(dt_cv, X_train, y_train, cv=10)\n",
        "\n",
        "print(score)\n",
        "print(score.mean())\n",
        "print(score.std())"
      ],
      "execution_count": null,
      "outputs": [
        {
          "output_type": "stream",
          "text": [
            "[-0.04044512  0.06753726  0.04230792  0.31841607  0.15925265 -0.02539397\n",
            "  0.2145195   0.15342373  0.24687318  0.09527618]\n",
            "0.12317674089688416\n",
            "0.11101278637843778\n"
          ],
          "name": "stdout"
        }
      ]
    },
    {
      "cell_type": "markdown",
      "metadata": {
        "id": "bWJ3LZJcbSQh"
      },
      "source": [
        "### GridSearchCV"
      ]
    },
    {
      "cell_type": "code",
      "metadata": {
        "colab": {
          "base_uri": "https://localhost:8080/"
        },
        "id": "I_KXH7wzXpiE",
        "outputId": "b18b8526-5540-4420-fe2d-4065e4f28af1"
      },
      "source": [
        "dt_gs = DecisionTreeRegressor()\n",
        "params = {'max_depth': [1, 2, 5, 10, 20, None], 'max_leaf_nodes': [2, 5, 10, 20, 30, None]}\n",
        "gs_cv = GridSearchCV(dt_gs, cv=10, param_grid=params)\n",
        "\n",
        "gs_cv.fit(X_train, y_train)"
      ],
      "execution_count": null,
      "outputs": [
        {
          "output_type": "execute_result",
          "data": {
            "text/plain": [
              "GridSearchCV(cv=10, error_score=nan,\n",
              "             estimator=DecisionTreeRegressor(ccp_alpha=0.0, criterion='mse',\n",
              "                                             max_depth=None, max_features=None,\n",
              "                                             max_leaf_nodes=None,\n",
              "                                             min_impurity_decrease=0.0,\n",
              "                                             min_impurity_split=None,\n",
              "                                             min_samples_leaf=1,\n",
              "                                             min_samples_split=2,\n",
              "                                             min_weight_fraction_leaf=0.0,\n",
              "                                             presort='deprecated',\n",
              "                                             random_state=None,\n",
              "                                             splitter='best'),\n",
              "             iid='deprecated', n_jobs=None,\n",
              "             param_grid={'max_depth': [1, 2, 5, 10, 20, None],\n",
              "                         'max_leaf_nodes': [2, 5, 10, 20, 30, None]},\n",
              "             pre_dispatch='2*n_jobs', refit=True, return_train_score=False,\n",
              "             scoring=None, verbose=0)"
            ]
          },
          "metadata": {
            "tags": []
          },
          "execution_count": 90
        }
      ]
    },
    {
      "cell_type": "code",
      "metadata": {
        "colab": {
          "base_uri": "https://localhost:8080/"
        },
        "id": "_Li-wdkhb9Yi",
        "outputId": "0fb432fd-d98f-4ac9-f8b7-3e79089b0fbd"
      },
      "source": [
        "gs_cv.best_params_"
      ],
      "execution_count": null,
      "outputs": [
        {
          "output_type": "execute_result",
          "data": {
            "text/plain": [
              "{'max_depth': 5, 'max_leaf_nodes': 30}"
            ]
          },
          "metadata": {
            "tags": []
          },
          "execution_count": 91
        }
      ]
    },
    {
      "cell_type": "code",
      "metadata": {
        "colab": {
          "base_uri": "https://localhost:8080/"
        },
        "id": "NleyKX_8cDK1",
        "outputId": "5aec833e-86a3-49c4-af9b-7a933bf10c67"
      },
      "source": [
        "gs_cv.best_score_"
      ],
      "execution_count": null,
      "outputs": [
        {
          "output_type": "execute_result",
          "data": {
            "text/plain": [
              "0.4684735876793516"
            ]
          },
          "metadata": {
            "tags": []
          },
          "execution_count": 92
        }
      ]
    },
    {
      "cell_type": "code",
      "metadata": {
        "colab": {
          "base_uri": "https://localhost:8080/"
        },
        "id": "XmlvU_KqcGK7",
        "outputId": "8ee115df-a7ef-4c0c-9aa6-f56a3650b456"
      },
      "source": [
        "y_pred_test = gs_cv.predict(X_test)\n",
        "\n",
        "gs_mse_test = mean_squared_error(y_test, y_pred_test)\n",
        "\n",
        "print(gs_mse_test)"
      ],
      "execution_count": null,
      "outputs": [
        {
          "output_type": "stream",
          "text": [
            "5.402046339748598\n"
          ],
          "name": "stdout"
        }
      ]
    }
  ]
}