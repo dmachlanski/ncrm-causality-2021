{
  "nbformat": 4,
  "nbformat_minor": 0,
  "metadata": {
    "colab": {
      "name": "Tutorial Intro.ipynb",
      "provenance": [],
      "collapsed_sections": [],
      "authorship_tag": "ABX9TyNBge7HT8NgWuysqi/cHxbS",
      "include_colab_link": true
    },
    "kernelspec": {
      "name": "python3",
      "display_name": "Python 3"
    },
    "language_info": {
      "name": "python"
    }
  },
  "cells": [
    {
      "cell_type": "markdown",
      "metadata": {
        "id": "view-in-github",
        "colab_type": "text"
      },
      "source": [
        "<a href=\"https://colab.research.google.com/github/dmachlanski/ncrm-causality-2021/blob/main/labs/day_1/Tutorial_Intro.ipynb\" target=\"_parent\"><img src=\"https://colab.research.google.com/assets/colab-badge.svg\" alt=\"Open In Colab\"/></a>"
      ]
    },
    {
      "cell_type": "markdown",
      "metadata": {
        "id": "oHZq2s7vNjcV"
      },
      "source": [
        "# NumPy\n",
        "Fundational package in the data science ecosystem - [link](https://numpy.org/).\n",
        "\n",
        "Provides convenient data structures (arrays) and functions. Let's see what we can do with it.\n",
        "\n",
        "## Basics\n",
        "\n",
        "First, we have to import it, which is usually done as follows."
      ]
    },
    {
      "cell_type": "code",
      "metadata": {
        "id": "2C7ET5UlPQEF"
      },
      "source": [
        "import numpy as np"
      ],
      "execution_count": 2,
      "outputs": []
    },
    {
      "cell_type": "markdown",
      "metadata": {
        "id": "g6a3GNvkPyjr"
      },
      "source": [
        "Now we can create a simple numpy array - this will be our default data structure throughout the course."
      ]
    },
    {
      "cell_type": "code",
      "metadata": {
        "colab": {
          "base_uri": "https://localhost:8080/"
        },
        "id": "aQrikGJSPjBg",
        "outputId": "5d046ba1-fafd-4a2a-ff3f-dc2f5b6c768e"
      },
      "source": [
        "a = np.array([0, 1, 2, 3, 4, 5])\n",
        "print(a)"
      ],
      "execution_count": 3,
      "outputs": [
        {
          "output_type": "stream",
          "text": [
            "[0 1 2 3 4 5]\n"
          ],
          "name": "stdout"
        }
      ]
    },
    {
      "cell_type": "markdown",
      "metadata": {
        "id": "RG4vgDrIQJUG"
      },
      "source": [
        "We can check the number of dimensions and shape (size of each dimension) via"
      ]
    },
    {
      "cell_type": "code",
      "metadata": {
        "colab": {
          "base_uri": "https://localhost:8080/"
        },
        "id": "91qAvxejQCUU",
        "outputId": "776777ae-7a94-456b-f34c-f02055493a1f"
      },
      "source": [
        "print(a.ndim)\n",
        "print(a.shape)"
      ],
      "execution_count": 4,
      "outputs": [
        {
          "output_type": "stream",
          "text": [
            "1\n",
            "(6,)\n"
          ],
          "name": "stdout"
        }
      ]
    },
    {
      "cell_type": "markdown",
      "metadata": {
        "id": "3W7twayNQ48A"
      },
      "source": [
        "With scalar-valued operations, the scalar is applied to each element of the array"
      ]
    },
    {
      "cell_type": "code",
      "metadata": {
        "colab": {
          "base_uri": "https://localhost:8080/"
        },
        "id": "0fLJd-jNQlNy",
        "outputId": "fb594d92-559c-4883-91e8-dc6890091406"
      },
      "source": [
        "print(a + 10)\n",
        "print(a - 10)\n",
        "print(a * 2)\n",
        "print(a ** 2) # a to the power of 2"
      ],
      "execution_count": 5,
      "outputs": [
        {
          "output_type": "stream",
          "text": [
            "[10 11 12 13 14 15]\n",
            "[-10  -9  -8  -7  -6  -5]\n",
            "[ 0  2  4  6  8 10]\n",
            "[ 0  1  4  9 16 25]\n"
          ],
          "name": "stdout"
        }
      ]
    },
    {
      "cell_type": "markdown",
      "metadata": {
        "id": "v5C-J28lRsUu"
      },
      "source": [
        "Similar operations can be performed between two arrays, though we have to be careful their size is compatible"
      ]
    },
    {
      "cell_type": "code",
      "metadata": {
        "colab": {
          "base_uri": "https://localhost:8080/"
        },
        "id": "GTSQ8Y9CROvX",
        "outputId": "3f62d021-5c71-4b0b-f532-31a35022b6e7"
      },
      "source": [
        "a = np.array([1, 2, 3, 4])\n",
        "b = np.array([2, 3, 4, 5])\n",
        "\n",
        "print(a * b)\n",
        "print(a ** b)\n",
        "print(a + b)\n",
        "print(a / b)"
      ],
      "execution_count": 6,
      "outputs": [
        {
          "output_type": "stream",
          "text": [
            "[ 2  6 12 20]\n",
            "[   1    8   81 1024]\n",
            "[3 5 7 9]\n",
            "[0.5        0.66666667 0.75       0.8       ]\n"
          ],
          "name": "stdout"
        }
      ]
    },
    {
      "cell_type": "markdown",
      "metadata": {
        "id": "lwSJbdi7SM1L"
      },
      "source": [
        "Sometimes it is useful to update an array's specific element"
      ]
    },
    {
      "cell_type": "code",
      "metadata": {
        "colab": {
          "base_uri": "https://localhost:8080/"
        },
        "id": "FBY52RUAR6wO",
        "outputId": "9c280ea5-d97e-4f2b-b88e-a8b2ff3748c1"
      },
      "source": [
        "print(a)\n",
        "print(a[0])\n",
        "a[0] = 10\n",
        "print(a[0])\n",
        "print(a)"
      ],
      "execution_count": 7,
      "outputs": [
        {
          "output_type": "stream",
          "text": [
            "[1 2 3 4]\n",
            "1\n",
            "10\n",
            "[10  2  3  4]\n"
          ],
          "name": "stdout"
        }
      ]
    },
    {
      "cell_type": "markdown",
      "metadata": {
        "id": "ZqJ0mApsTFM8"
      },
      "source": [
        "In practice, we often deal with more than one dimension. Here's how we declare a two-dimensional array"
      ]
    },
    {
      "cell_type": "code",
      "metadata": {
        "colab": {
          "base_uri": "https://localhost:8080/"
        },
        "id": "Q4ac9G9TSTTo",
        "outputId": "c358406a-5636-4c13-829a-e5f3ea398659"
      },
      "source": [
        "a = np.array([[ 0, 1, 2, 3],\n",
        "              [10,11,12,13]])\n",
        "print(a)\n",
        "print(a.shape)\n",
        "print(a.size)\n",
        "print(a.ndim)"
      ],
      "execution_count": 9,
      "outputs": [
        {
          "output_type": "stream",
          "text": [
            "[[ 0  1  2  3]\n",
            " [10 11 12 13]]\n",
            "(2, 4)\n",
            "8\n",
            "2\n"
          ],
          "name": "stdout"
        }
      ]
    },
    {
      "cell_type": "markdown",
      "metadata": {
        "id": "jmMzGBy-T0-b"
      },
      "source": [
        "Updating individual elements is done similarly - we just have to specify indexes for both dimensions"
      ]
    },
    {
      "cell_type": "code",
      "metadata": {
        "colab": {
          "base_uri": "https://localhost:8080/"
        },
        "id": "6IYnT9xRTZFw",
        "outputId": "fa7cf0f1-379c-4168-8af3-bd1842305962"
      },
      "source": [
        "print(a)\n",
        "print(a[1, 3])\n",
        "a[1, 3] = -1\n",
        "print(a[1, 3])\n",
        "print(a)"
      ],
      "execution_count": 10,
      "outputs": [
        {
          "output_type": "stream",
          "text": [
            "[[ 0  1  2  3]\n",
            " [10 11 12 13]]\n",
            "13\n",
            "-1\n",
            "[[ 0  1  2  3]\n",
            " [10 11 12 -1]]\n"
          ],
          "name": "stdout"
        }
      ]
    },
    {
      "cell_type": "markdown",
      "metadata": {
        "id": "9OO5Q2kGUJlL"
      },
      "source": [
        "We can also print an entire second row with"
      ]
    },
    {
      "cell_type": "code",
      "metadata": {
        "colab": {
          "base_uri": "https://localhost:8080/"
        },
        "id": "mKjC7dCcUDwR",
        "outputId": "bfaabe43-65c5-462c-a7b9-916d00c11d71"
      },
      "source": [
        "print(a[1])"
      ],
      "execution_count": 11,
      "outputs": [
        {
          "output_type": "stream",
          "text": [
            "[10 11 12 -1]\n"
          ],
          "name": "stdout"
        }
      ]
    },
    {
      "cell_type": "markdown",
      "metadata": {
        "id": "NwUfQPOuUVvA"
      },
      "source": [
        "## Slicing\n",
        "\n",
        "![Slicing array](https://scipy-lectures.org/_images/numpy_indexing.png)"
      ]
    },
    {
      "cell_type": "code",
      "metadata": {
        "colab": {
          "base_uri": "https://localhost:8080/"
        },
        "id": "vhvkKB3NUN2z",
        "outputId": "05511cef-98a3-4d0f-f960-5a22af61df11"
      },
      "source": [
        "# Slicing array\n",
        "print(a)\n",
        "\n",
        "# print all rows and 3rd column\n",
        "print(a[:, 2])\n",
        "\n",
        "# print first row and all columns\n",
        "print(a[0, :])\n",
        "\n",
        "# negative indices - count from end to beginning\n",
        "# ':-2' means 'from start to second from the end element (excluding that element)\n",
        "print(a)\n",
        "print(a[:, :-2])"
      ],
      "execution_count": 12,
      "outputs": [
        {
          "output_type": "stream",
          "text": [
            "[[ 0  1  2  3]\n",
            " [10 11 12 -1]]\n",
            "[ 2 12]\n",
            "[0 1 2 3]\n",
            "[[ 0  1  2  3]\n",
            " [10 11 12 -1]]\n",
            "[[ 0  1]\n",
            " [10 11]]\n"
          ],
          "name": "stdout"
        }
      ]
    },
    {
      "cell_type": "markdown",
      "metadata": {
        "id": "7xowttAUYm30"
      },
      "source": [
        "## Useful functions"
      ]
    },
    {
      "cell_type": "code",
      "metadata": {
        "colab": {
          "base_uri": "https://localhost:8080/"
        },
        "id": "85E1pRlKYa1r",
        "outputId": "f8b5af56-cca1-4b2d-e782-10d2e2acc84d"
      },
      "source": [
        "zeros = np.zeros((10, 10))\n",
        "print(zeros)\n",
        "print(zeros.shape)\n",
        "\n",
        "ones = np.ones((4, 4))\n",
        "print(ones)\n",
        "print(ones.shape)\n",
        "\n",
        "print(ones.reshape(2, 8))\n",
        "print(ones.shape)"
      ],
      "execution_count": 13,
      "outputs": [
        {
          "output_type": "stream",
          "text": [
            "[[0. 0. 0. 0. 0. 0. 0. 0. 0. 0.]\n",
            " [0. 0. 0. 0. 0. 0. 0. 0. 0. 0.]\n",
            " [0. 0. 0. 0. 0. 0. 0. 0. 0. 0.]\n",
            " [0. 0. 0. 0. 0. 0. 0. 0. 0. 0.]\n",
            " [0. 0. 0. 0. 0. 0. 0. 0. 0. 0.]\n",
            " [0. 0. 0. 0. 0. 0. 0. 0. 0. 0.]\n",
            " [0. 0. 0. 0. 0. 0. 0. 0. 0. 0.]\n",
            " [0. 0. 0. 0. 0. 0. 0. 0. 0. 0.]\n",
            " [0. 0. 0. 0. 0. 0. 0. 0. 0. 0.]\n",
            " [0. 0. 0. 0. 0. 0. 0. 0. 0. 0.]]\n",
            "(10, 10)\n",
            "[[1. 1. 1. 1.]\n",
            " [1. 1. 1. 1.]\n",
            " [1. 1. 1. 1.]\n",
            " [1. 1. 1. 1.]]\n",
            "(4, 4)\n",
            "[[1. 1. 1. 1. 1. 1. 1. 1.]\n",
            " [1. 1. 1. 1. 1. 1. 1. 1.]]\n",
            "(4, 4)\n"
          ],
          "name": "stdout"
        }
      ]
    },
    {
      "cell_type": "code",
      "metadata": {
        "colab": {
          "base_uri": "https://localhost:8080/"
        },
        "id": "KqtaZFVSY0lj",
        "outputId": "94a8ce03-3b5b-498b-b84a-2a5f74e0d280"
      },
      "source": [
        "arr1 = np.array([[1, 2, 3, 4], [1, 2, 3, 4]])\n",
        "arr2 = np.array([[5, 6, 7, 8], [5, 6, 7 , 8]])\n",
        "\n",
        "print(arr1)\n",
        "print(arr2)\n",
        "print(arr1.shape, arr2.shape)"
      ],
      "execution_count": 14,
      "outputs": [
        {
          "output_type": "stream",
          "text": [
            "[[1 2 3 4]\n",
            " [1 2 3 4]]\n",
            "[[5 6 7 8]\n",
            " [5 6 7 8]]\n",
            "(2, 4) (2, 4)\n"
          ],
          "name": "stdout"
        }
      ]
    },
    {
      "cell_type": "markdown",
      "metadata": {
        "id": "iDSw-f9uZrLR"
      },
      "source": [
        "Concatenation is a useful way of joining multiple arrays into one.\n",
        "\n",
        "We can concatenate along the first axis (rows)"
      ]
    },
    {
      "cell_type": "code",
      "metadata": {
        "colab": {
          "base_uri": "https://localhost:8080/"
        },
        "id": "4FqZop3tZgj4",
        "outputId": "53d84d25-0937-4671-92e3-a32fc369f0d1"
      },
      "source": [
        "cat = np.concatenate((arr1, arr2), axis=0)\n",
        "print(cat)\n",
        "print(cat.shape)"
      ],
      "execution_count": 15,
      "outputs": [
        {
          "output_type": "stream",
          "text": [
            "[[1 2 3 4]\n",
            " [1 2 3 4]\n",
            " [5 6 7 8]\n",
            " [5 6 7 8]]\n",
            "(4, 4)\n"
          ],
          "name": "stdout"
        }
      ]
    },
    {
      "cell_type": "markdown",
      "metadata": {
        "id": "FbUuQWDYZ95f"
      },
      "source": [
        "Or along the second one (columns)"
      ]
    },
    {
      "cell_type": "code",
      "metadata": {
        "colab": {
          "base_uri": "https://localhost:8080/"
        },
        "id": "9y0eZe2VZ8oP",
        "outputId": "ae9d3747-de1c-43bd-acf6-069213fc0320"
      },
      "source": [
        "cat = np.concatenate((arr1, arr2), axis=1)    \n",
        "print(cat)\n",
        "print(cat.shape)"
      ],
      "execution_count": 16,
      "outputs": [
        {
          "output_type": "stream",
          "text": [
            "[[1 2 3 4 5 6 7 8]\n",
            " [1 2 3 4 5 6 7 8]]\n",
            "(2, 8)\n"
          ],
          "name": "stdout"
        }
      ]
    },
    {
      "cell_type": "code",
      "metadata": {
        "colab": {
          "base_uri": "https://localhost:8080/"
        },
        "id": "wLbXIRtBaGFv",
        "outputId": "498b1474-d69e-4d65-f3e0-6b561712461c"
      },
      "source": [
        "mat1 = np.array([[1, 2, 3, 4], [1, 2, 3, 4]])\n",
        "mat2 = mat1.T # this is the transpose of mat1\n",
        "\n",
        "print(mat1)\n",
        "print(mat1.shape)\n",
        "print(mat2)\n",
        "print(mat2.shape)"
      ],
      "execution_count": 17,
      "outputs": [
        {
          "output_type": "stream",
          "text": [
            "[[1 2 3 4]\n",
            " [1 2 3 4]]\n",
            "(2, 4)\n",
            "[[1 1]\n",
            " [2 2]\n",
            " [3 3]\n",
            " [4 4]]\n",
            "(4, 2)\n"
          ],
          "name": "stdout"
        }
      ]
    },
    {
      "cell_type": "code",
      "metadata": {
        "colab": {
          "base_uri": "https://localhost:8080/"
        },
        "id": "q7ZAN1MTaOQX",
        "outputId": "574e7db7-0fd7-480e-eedc-39102cc6f8a7"
      },
      "source": [
        "print(np.matmul(mat1, mat2))"
      ],
      "execution_count": 18,
      "outputs": [
        {
          "output_type": "stream",
          "text": [
            "[[30 30]\n",
            " [30 30]]\n"
          ],
          "name": "stdout"
        }
      ]
    },
    {
      "cell_type": "markdown",
      "metadata": {
        "id": "kOjUQHMIaZcf"
      },
      "source": [
        "## Basic statistics"
      ]
    },
    {
      "cell_type": "code",
      "metadata": {
        "colab": {
          "base_uri": "https://localhost:8080/"
        },
        "id": "H7CsW1VOaQD3",
        "outputId": "6408d250-0a38-49cf-a92e-ac80186f4b87"
      },
      "source": [
        "# Sample from standard normal distribution (1000 samples).\n",
        "randn = np.random.randn(1000)\n",
        "\n",
        "print(np.mean(randn))\n",
        "print(np.median(randn))\n",
        "print(np.std(randn))\n",
        "print(np.var(randn))"
      ],
      "execution_count": 19,
      "outputs": [
        {
          "output_type": "stream",
          "text": [
            "0.01467885508831639\n",
            "0.011224154180518635\n",
            "1.016244783434238\n",
            "1.0327534598573014\n"
          ],
          "name": "stdout"
        }
      ]
    },
    {
      "cell_type": "markdown",
      "metadata": {
        "id": "O-5S85xbap15"
      },
      "source": [
        "# Matplotlib"
      ]
    },
    {
      "cell_type": "code",
      "metadata": {
        "id": "HPF5QjsRaeCH"
      },
      "source": [
        "import matplotlib.pyplot as plt"
      ],
      "execution_count": 20,
      "outputs": []
    },
    {
      "cell_type": "code",
      "metadata": {
        "colab": {
          "base_uri": "https://localhost:8080/",
          "height": 295
        },
        "id": "70aASWSLatBH",
        "outputId": "045c911f-80ab-4e9e-a0c3-692f10cf054e"
      },
      "source": [
        "x = np.linspace(-np.pi, np.pi, 201)\n",
        "y = np.sin(1/4 * np.pi * x)\n",
        "plt.plot(x, y)\n",
        "plt.xlabel(\"Time\")\n",
        "plt.ylabel(\"sin(1/4*pi*x)\")\n",
        "plt.title(\"Sinusoidal function\")\n",
        "plt.show()"
      ],
      "execution_count": 21,
      "outputs": [
        {
          "output_type": "display_data",
          "data": {
            "image/png": "[encoded data removed]",
            "text/plain": [
              "<Figure size 432x288 with 1 Axes>"
            ]
          },
          "metadata": {
            "tags": [],
            "needs_background": "light"
          }
        }
      ]
    },
    {
      "cell_type": "code",
      "metadata": {
        "colab": {
          "base_uri": "https://localhost:8080/",
          "height": 350
        },
        "id": "DHtQNecua3iI",
        "outputId": "99132d2a-888a-46b6-9ce9-3d37b382110e"
      },
      "source": [
        "plt.hist(randn)"
      ],
      "execution_count": 22,
      "outputs": [
        {
          "output_type": "execute_result",
          "data": {
            "text/plain": [
              "(array([  2.,   1.,  30., 103., 256., 291., 203.,  86.,  24.,   4.]),\n",
              " array([-4.10989806, -3.34478373, -2.5796694 , -1.81455507, -1.04944075,\n",
              "        -0.28432642,  0.48078791,  1.24590224,  2.01101657,  2.77613089,\n",
              "         3.54124522]),\n",
              " <a list of 10 Patch objects>)"
            ]
          },
          "metadata": {
            "tags": []
          },
          "execution_count": 22
        },
        {
          "output_type": "display_data",
          "data": {
            "image/png": "[encoded data removed]",
            "text/plain": [
              "<Figure size 432x288 with 1 Axes>"
            ]
          },
          "metadata": {
            "tags": [],
            "needs_background": "light"
          }
        }
      ]
    },
    {
      "cell_type": "markdown",
      "metadata": {
        "id": "gu8g3v07bkCm"
      },
      "source": [
        "## Seaborn"
      ]
    },
    {
      "cell_type": "code",
      "metadata": {
        "id": "qL-jzagMa-Fo"
      },
      "source": [
        "import seaborn as sns"
      ],
      "execution_count": 23,
      "outputs": []
    },
    {
      "cell_type": "code",
      "metadata": {
        "colab": {
          "base_uri": "https://localhost:8080/",
          "height": 458
        },
        "id": "3rAmLjJWbDen",
        "outputId": "fb33c4a3-9cce-49fa-e549-dfbc17863e13"
      },
      "source": [
        "sns.jointplot(x=x, y=y)"
      ],
      "execution_count": 25,
      "outputs": [
        {
          "output_type": "execute_result",
          "data": {
            "text/plain": [
              "<seaborn.axisgrid.JointGrid at 0x7f8c64d4e250>"
            ]
          },
          "metadata": {
            "tags": []
          },
          "execution_count": 25
        },
        {
          "output_type": "display_data",
          "data": {
            "image/png": "[encoded data removed]",
            "text/plain": [
              "<Figure size 432x432 with 3 Axes>"
            ]
          },
          "metadata": {
            "tags": [],
            "needs_background": "light"
          }
        }
      ]
    },
    {
      "cell_type": "code",
      "metadata": {
        "id": "giMq3Rw9bOLv"
      },
      "source": [
        ""
      ],
      "execution_count": null,
      "outputs": []
    }
  ]
}