{
  "nbformat": 4,
  "nbformat_minor": 0,
  "metadata": {
    "colab": {
      "name": "Tutorial Intro.ipynb",
      "provenance": [],
      "collapsed_sections": [],
      "authorship_tag": "ABX9TyMba5M8qeFJcV+E9snJG5nw",
      "include_colab_link": true
    },
    "kernelspec": {
      "name": "python3",
      "display_name": "Python 3"
    },
    "language_info": {
      "name": "python"
    }
  },
  "cells": [
    {
      "cell_type": "markdown",
      "metadata": {
        "id": "view-in-github",
        "colab_type": "text"
      },
      "source": [
        "<a href=\"https://colab.research.google.com/github/dmachlanski/ncrm-causality-2021/blob/main/labs/day_1/Tutorial_Intro.ipynb\" target=\"_parent\"><img src=\"https://colab.research.google.com/assets/colab-badge.svg\" alt=\"Open In Colab\"/></a>"
      ]
    },
    {
      "cell_type": "markdown",
      "metadata": {
        "id": "oHZq2s7vNjcV"
      },
      "source": [
        "# NumPy\n",
        "Fundational package in the data science ecosystem - [link](https://numpy.org/).\n",
        "\n",
        "Provides convenient data structures (arrays) and functions. Let's see what we can do with it.\n",
        "\n",
        "## Basics\n",
        "\n",
        "First, we have to import it, which is usually done as follows."
      ]
    },
    {
      "cell_type": "code",
      "metadata": {
        "id": "2C7ET5UlPQEF"
      },
      "source": [
        "import numpy as np"
      ],
      "execution_count": 1,
      "outputs": []
    },
    {
      "cell_type": "markdown",
      "metadata": {
        "id": "g6a3GNvkPyjr"
      },
      "source": [
        "Now we can create a simple numpy array - this will be our default data structure throughout the course."
      ]
    },
    {
      "cell_type": "code",
      "metadata": {
        "colab": {
          "base_uri": "https://localhost:8080/"
        },
        "id": "aQrikGJSPjBg",
        "outputId": "1a6973dd-042e-49e7-ff35-8dc2bdc36efe"
      },
      "source": [
        "a = np.array([0, 1, 2, 3, 4, 5])\n",
        "print(a)"
      ],
      "execution_count": 2,
      "outputs": [
        {
          "output_type": "stream",
          "text": [
            "[0 1 2 3 4 5]\n"
          ],
          "name": "stdout"
        }
      ]
    },
    {
      "cell_type": "markdown",
      "metadata": {
        "id": "RG4vgDrIQJUG"
      },
      "source": [
        "We can check the number of dimensions and shape (size of each dimension) via"
      ]
    },
    {
      "cell_type": "code",
      "metadata": {
        "colab": {
          "base_uri": "https://localhost:8080/"
        },
        "id": "91qAvxejQCUU",
        "outputId": "b7dc7ff8-cbc7-4868-d5f5-6586d9e94544"
      },
      "source": [
        "print(a.ndim)\n",
        "print(a.shape)"
      ],
      "execution_count": 3,
      "outputs": [
        {
          "output_type": "stream",
          "text": [
            "1\n",
            "(6,)\n"
          ],
          "name": "stdout"
        }
      ]
    },
    {
      "cell_type": "markdown",
      "metadata": {
        "id": "3W7twayNQ48A"
      },
      "source": [
        "With scalar-valued operations, the scalar is applied to each element of the array"
      ]
    },
    {
      "cell_type": "code",
      "metadata": {
        "colab": {
          "base_uri": "https://localhost:8080/"
        },
        "id": "0fLJd-jNQlNy",
        "outputId": "3351cfbc-0598-47c2-9978-7862b6943d65"
      },
      "source": [
        "print(a + 10)\n",
        "print(a - 10)\n",
        "print(a * 2)\n",
        "print(a ** 2) # a to the power of 2"
      ],
      "execution_count": 4,
      "outputs": [
        {
          "output_type": "stream",
          "text": [
            "[10 11 12 13 14 15]\n",
            "[-10  -9  -8  -7  -6  -5]\n",
            "[ 0  2  4  6  8 10]\n",
            "[ 0  1  4  9 16 25]\n"
          ],
          "name": "stdout"
        }
      ]
    },
    {
      "cell_type": "markdown",
      "metadata": {
        "id": "v5C-J28lRsUu"
      },
      "source": [
        "Similar operations can be performed between two arrays, though we have to be careful their size is compatible"
      ]
    },
    {
      "cell_type": "code",
      "metadata": {
        "colab": {
          "base_uri": "https://localhost:8080/"
        },
        "id": "GTSQ8Y9CROvX",
        "outputId": "61cb5e9e-78be-47cd-eaa7-7100687c28dc"
      },
      "source": [
        "a = np.array([1, 2, 3, 4])\n",
        "b = np.array([2, 3, 4, 5])\n",
        "\n",
        "print(a * b)\n",
        "print(a ** b)\n",
        "print(a + b)\n",
        "print(a / b)"
      ],
      "execution_count": 5,
      "outputs": [
        {
          "output_type": "stream",
          "text": [
            "[ 2  6 12 20]\n",
            "[   1    8   81 1024]\n",
            "[3 5 7 9]\n",
            "[0.5        0.66666667 0.75       0.8       ]\n"
          ],
          "name": "stdout"
        }
      ]
    },
    {
      "cell_type": "markdown",
      "metadata": {
        "id": "lwSJbdi7SM1L"
      },
      "source": [
        "Sometimes it is useful to update an array's specific element"
      ]
    },
    {
      "cell_type": "code",
      "metadata": {
        "colab": {
          "base_uri": "https://localhost:8080/"
        },
        "id": "FBY52RUAR6wO",
        "outputId": "fc60e6ef-40d8-47ab-8252-94d023a3122c"
      },
      "source": [
        "print(a)\n",
        "print(a[0])\n",
        "a[0] = 10\n",
        "print(a[0])\n",
        "print(a)"
      ],
      "execution_count": 6,
      "outputs": [
        {
          "output_type": "stream",
          "text": [
            "[1 2 3 4]\n",
            "1\n",
            "10\n",
            "[10  2  3  4]\n"
          ],
          "name": "stdout"
        }
      ]
    },
    {
      "cell_type": "markdown",
      "metadata": {
        "id": "ZqJ0mApsTFM8"
      },
      "source": [
        "In practice, we often deal with more than one dimension. Here's how we declare a two-dimensional array"
      ]
    },
    {
      "cell_type": "code",
      "metadata": {
        "colab": {
          "base_uri": "https://localhost:8080/"
        },
        "id": "Q4ac9G9TSTTo",
        "outputId": "b54ac6f0-f78d-4a9c-a428-2a2e324606ab"
      },
      "source": [
        "a = np.array([[ 0, 1, 2, 3],\n",
        "              [10,11,12,13]])\n",
        "print(a)\n",
        "print(a.shape)\n",
        "print(a.size)\n",
        "print(a.ndim)"
      ],
      "execution_count": 7,
      "outputs": [
        {
          "output_type": "stream",
          "text": [
            "[[ 0  1  2  3]\n",
            " [10 11 12 13]]\n",
            "(2, 4)\n",
            "8\n",
            "2\n"
          ],
          "name": "stdout"
        }
      ]
    },
    {
      "cell_type": "markdown",
      "metadata": {
        "id": "jmMzGBy-T0-b"
      },
      "source": [
        "Updating individual elements is done similarly - we just have to specify indexes for both dimensions"
      ]
    },
    {
      "cell_type": "code",
      "metadata": {
        "colab": {
          "base_uri": "https://localhost:8080/"
        },
        "id": "6IYnT9xRTZFw",
        "outputId": "9b5b231c-7ce5-4445-ac87-e994d9071ce0"
      },
      "source": [
        "print(a)\n",
        "print(a[1, 3])\n",
        "a[1, 3] = -1\n",
        "print(a[1, 3])\n",
        "print(a)"
      ],
      "execution_count": 8,
      "outputs": [
        {
          "output_type": "stream",
          "text": [
            "[[ 0  1  2  3]\n",
            " [10 11 12 13]]\n",
            "13\n",
            "-1\n",
            "[[ 0  1  2  3]\n",
            " [10 11 12 -1]]\n"
          ],
          "name": "stdout"
        }
      ]
    },
    {
      "cell_type": "markdown",
      "metadata": {
        "id": "9OO5Q2kGUJlL"
      },
      "source": [
        "We can also print an entire second row with"
      ]
    },
    {
      "cell_type": "code",
      "metadata": {
        "colab": {
          "base_uri": "https://localhost:8080/"
        },
        "id": "mKjC7dCcUDwR",
        "outputId": "960fa720-b6d4-441c-d52b-37681e7246fe"
      },
      "source": [
        "print(a[1])"
      ],
      "execution_count": 9,
      "outputs": [
        {
          "output_type": "stream",
          "text": [
            "[10 11 12 -1]\n"
          ],
          "name": "stdout"
        }
      ]
    },
    {
      "cell_type": "markdown",
      "metadata": {
        "id": "NwUfQPOuUVvA"
      },
      "source": [
        "## Slicing\n",
        "\n",
        "![Slicing array](https://scipy-lectures.org/_images/numpy_indexing.png)"
      ]
    },
    {
      "cell_type": "code",
      "metadata": {
        "colab": {
          "base_uri": "https://localhost:8080/"
        },
        "id": "vhvkKB3NUN2z",
        "outputId": "f86c64fd-75e3-4eec-b7d4-c6658bf56f56"
      },
      "source": [
        "# Slicing array\n",
        "print(a)\n",
        "\n",
        "# print all rows and 3rd column\n",
        "print(a[:, 2])\n",
        "\n",
        "# print first row and all columns\n",
        "print(a[0, :])\n",
        "\n",
        "# negative indices - count from end to beginning\n",
        "# ':-2' means 'from start to second from the end element (excluding that element)\n",
        "print(a)\n",
        "print(a[:, :-2])"
      ],
      "execution_count": 10,
      "outputs": [
        {
          "output_type": "stream",
          "text": [
            "[[ 0  1  2  3]\n",
            " [10 11 12 -1]]\n",
            "[ 2 12]\n",
            "[0 1 2 3]\n",
            "[[ 0  1  2  3]\n",
            " [10 11 12 -1]]\n",
            "[[ 0  1]\n",
            " [10 11]]\n"
          ],
          "name": "stdout"
        }
      ]
    },
    {
      "cell_type": "markdown",
      "metadata": {
        "id": "7xowttAUYm30"
      },
      "source": [
        "## Useful functions"
      ]
    },
    {
      "cell_type": "code",
      "metadata": {
        "colab": {
          "base_uri": "https://localhost:8080/"
        },
        "id": "85E1pRlKYa1r",
        "outputId": "e9d95276-3a22-43e7-ce8e-8c03eb584df3"
      },
      "source": [
        "zeros = np.zeros((10, 10))\n",
        "print(zeros)\n",
        "print(zeros.shape)\n",
        "\n",
        "ones = np.ones((4, 4))\n",
        "print(ones)\n",
        "print(ones.shape)\n",
        "\n",
        "print(ones.reshape(2, 8))\n",
        "print(ones.shape)"
      ],
      "execution_count": 11,
      "outputs": [
        {
          "output_type": "stream",
          "text": [
            "[[0. 0. 0. 0. 0. 0. 0. 0. 0. 0.]\n",
            " [0. 0. 0. 0. 0. 0. 0. 0. 0. 0.]\n",
            " [0. 0. 0. 0. 0. 0. 0. 0. 0. 0.]\n",
            " [0. 0. 0. 0. 0. 0. 0. 0. 0. 0.]\n",
            " [0. 0. 0. 0. 0. 0. 0. 0. 0. 0.]\n",
            " [0. 0. 0. 0. 0. 0. 0. 0. 0. 0.]\n",
            " [0. 0. 0. 0. 0. 0. 0. 0. 0. 0.]\n",
            " [0. 0. 0. 0. 0. 0. 0. 0. 0. 0.]\n",
            " [0. 0. 0. 0. 0. 0. 0. 0. 0. 0.]\n",
            " [0. 0. 0. 0. 0. 0. 0. 0. 0. 0.]]\n",
            "(10, 10)\n",
            "[[1. 1. 1. 1.]\n",
            " [1. 1. 1. 1.]\n",
            " [1. 1. 1. 1.]\n",
            " [1. 1. 1. 1.]]\n",
            "(4, 4)\n",
            "[[1. 1. 1. 1. 1. 1. 1. 1.]\n",
            " [1. 1. 1. 1. 1. 1. 1. 1.]]\n",
            "(4, 4)\n"
          ],
          "name": "stdout"
        }
      ]
    },
    {
      "cell_type": "markdown",
      "metadata": {
        "id": "YTuqt1l-rXvP"
      },
      "source": [
        "The following example shows how we can efficiently transition between 1D and 2D vectors."
      ]
    },
    {
      "cell_type": "code",
      "metadata": {
        "colab": {
          "base_uri": "https://localhost:8080/"
        },
        "id": "-RtlvxaaqmD-",
        "outputId": "ed4d4898-a87a-4f99-bc3d-336a8d245788"
      },
      "source": [
        "v = np.arange(5)\n",
        "\n",
        "print(v)\n",
        "print(v.shape)\n",
        "\n",
        "v = v.reshape(-1, 1)\n",
        "print(v)\n",
        "print(v.shape)\n",
        "\n",
        "v = v.flatten()\n",
        "print(v)\n",
        "print(v.shape)"
      ],
      "execution_count": 14,
      "outputs": [
        {
          "output_type": "stream",
          "text": [
            "[0 1 2 3 4]\n",
            "(5,)\n",
            "[[0]\n",
            " [1]\n",
            " [2]\n",
            " [3]\n",
            " [4]]\n",
            "(5, 1)\n",
            "[0 1 2 3 4]\n",
            "(5,)\n"
          ],
          "name": "stdout"
        }
      ]
    },
    {
      "cell_type": "code",
      "metadata": {
        "colab": {
          "base_uri": "https://localhost:8080/"
        },
        "id": "KqtaZFVSY0lj",
        "outputId": "442d65ab-8756-43f1-d70b-052418b7ece6"
      },
      "source": [
        "arr1 = np.array([[1, 2, 3, 4], [1, 2, 3, 4]])\n",
        "arr2 = np.array([[5, 6, 7, 8], [5, 6, 7 , 8]])\n",
        "\n",
        "print(arr1)\n",
        "print(arr2)\n",
        "print(arr1.shape, arr2.shape)"
      ],
      "execution_count": 15,
      "outputs": [
        {
          "output_type": "stream",
          "text": [
            "[[1 2 3 4]\n",
            " [1 2 3 4]]\n",
            "[[5 6 7 8]\n",
            " [5 6 7 8]]\n",
            "(2, 4) (2, 4)\n"
          ],
          "name": "stdout"
        }
      ]
    },
    {
      "cell_type": "markdown",
      "metadata": {
        "id": "iDSw-f9uZrLR"
      },
      "source": [
        "Concatenation is a useful way of joining multiple arrays into one.\n",
        "\n",
        "We can concatenate along the first axis (rows)"
      ]
    },
    {
      "cell_type": "code",
      "metadata": {
        "colab": {
          "base_uri": "https://localhost:8080/"
        },
        "id": "4FqZop3tZgj4",
        "outputId": "7c3f353b-7766-4399-89fd-4ba299afaedc"
      },
      "source": [
        "cat = np.concatenate((arr1, arr2), axis=0)\n",
        "print(cat)\n",
        "print(cat.shape)"
      ],
      "execution_count": 16,
      "outputs": [
        {
          "output_type": "stream",
          "text": [
            "[[1 2 3 4]\n",
            " [1 2 3 4]\n",
            " [5 6 7 8]\n",
            " [5 6 7 8]]\n",
            "(4, 4)\n"
          ],
          "name": "stdout"
        }
      ]
    },
    {
      "cell_type": "markdown",
      "metadata": {
        "id": "FbUuQWDYZ95f"
      },
      "source": [
        "Or along the second one (columns)"
      ]
    },
    {
      "cell_type": "code",
      "metadata": {
        "colab": {
          "base_uri": "https://localhost:8080/"
        },
        "id": "9y0eZe2VZ8oP",
        "outputId": "937a2a24-667d-454b-c4c2-ea1f848eed00"
      },
      "source": [
        "cat = np.concatenate((arr1, arr2), axis=1)    \n",
        "print(cat)\n",
        "print(cat.shape)"
      ],
      "execution_count": 17,
      "outputs": [
        {
          "output_type": "stream",
          "text": [
            "[[1 2 3 4 5 6 7 8]\n",
            " [1 2 3 4 5 6 7 8]]\n",
            "(2, 8)\n"
          ],
          "name": "stdout"
        }
      ]
    },
    {
      "cell_type": "code",
      "metadata": {
        "colab": {
          "base_uri": "https://localhost:8080/"
        },
        "id": "wLbXIRtBaGFv",
        "outputId": "08f02b55-f5d7-4b59-f339-c0670862d8ff"
      },
      "source": [
        "mat1 = np.array([[1, 2, 3, 4], [1, 2, 3, 4]])\n",
        "mat2 = mat1.T # this is the transpose of mat1\n",
        "\n",
        "print(mat1)\n",
        "print(mat1.shape)\n",
        "print(mat2)\n",
        "print(mat2.shape)"
      ],
      "execution_count": 18,
      "outputs": [
        {
          "output_type": "stream",
          "text": [
            "[[1 2 3 4]\n",
            " [1 2 3 4]]\n",
            "(2, 4)\n",
            "[[1 1]\n",
            " [2 2]\n",
            " [3 3]\n",
            " [4 4]]\n",
            "(4, 2)\n"
          ],
          "name": "stdout"
        }
      ]
    },
    {
      "cell_type": "markdown",
      "metadata": {
        "id": "kOjUQHMIaZcf"
      },
      "source": [
        "## Basic statistics"
      ]
    },
    {
      "cell_type": "code",
      "metadata": {
        "colab": {
          "base_uri": "https://localhost:8080/"
        },
        "id": "H7CsW1VOaQD3",
        "outputId": "d58319f0-3a34-4500-cf80-934a8c0d064d"
      },
      "source": [
        "# Sample from standard normal distribution (1000 samples).\n",
        "randn = np.random.randn(1000)\n",
        "\n",
        "print(np.mean(randn))\n",
        "print(np.std(randn))\n",
        "print(np.var(randn))"
      ],
      "execution_count": 24,
      "outputs": [
        {
          "output_type": "stream",
          "text": [
            "-0.006315516346822459\n",
            "0.9902783859636817\n",
            "0.9806512817068345\n"
          ],
          "name": "stdout"
        }
      ]
    },
    {
      "cell_type": "code",
      "metadata": {
        "colab": {
          "base_uri": "https://localhost:8080/"
        },
        "id": "iDOtfnnlrw3S",
        "outputId": "06e95c9a-f5e3-4069-aa04-b2881cd27658"
      },
      "source": [
        "# Can also do the same as follows\n",
        "\n",
        "print(randn.mean())\n",
        "print(randn.std())\n",
        "print(randn.var())"
      ],
      "execution_count": 25,
      "outputs": [
        {
          "output_type": "stream",
          "text": [
            "-0.006315516346822459\n",
            "0.9902783859636817\n",
            "0.9806512817068345\n"
          ],
          "name": "stdout"
        }
      ]
    },
    {
      "cell_type": "markdown",
      "metadata": {
        "id": "O-5S85xbap15"
      },
      "source": [
        "# Matplotlib"
      ]
    },
    {
      "cell_type": "code",
      "metadata": {
        "id": "HPF5QjsRaeCH"
      },
      "source": [
        "import matplotlib.pyplot as plt"
      ],
      "execution_count": 26,
      "outputs": []
    },
    {
      "cell_type": "code",
      "metadata": {
        "colab": {
          "base_uri": "https://localhost:8080/",
          "height": 295
        },
        "id": "70aASWSLatBH",
        "outputId": "2fe11603-53da-447b-93e3-9ec275f6f3b4"
      },
      "source": [
        "x = np.linspace(-10, 10, 200)\n",
        "y = x**2\n",
        "plt.plot(x, y)\n",
        "plt.xlabel(\"x\")\n",
        "plt.ylabel(\"$x^2$\")\n",
        "plt.title(\"Simple function\")\n",
        "plt.show()"
      ],
      "execution_count": 28,
      "outputs": [
        {
          "output_type": "display_data",
          "data": {
            "image/png": "[encoded data removed]",
            "text/plain": [
              "<Figure size 432x288 with 1 Axes>"
            ]
          },
          "metadata": {
            "tags": [],
            "needs_background": "light"
          }
        }
      ]
    },
    {
      "cell_type": "code",
      "metadata": {
        "colab": {
          "base_uri": "https://localhost:8080/",
          "height": 398
        },
        "id": "DHtQNecua3iI",
        "outputId": "ffad552e-fbfb-4d79-8572-93a0ee40c636"
      },
      "source": [
        "plt.hist(randn, bins=20)"
      ],
      "execution_count": 32,
      "outputs": [
        {
          "output_type": "execute_result",
          "data": {
            "text/plain": [
              "(array([  2.,   1.,   3.,   6.,  16.,  23.,  52.,  71., 105., 118., 136.,\n",
              "        137., 114.,  84.,  58.,  41.,  13.,  10.,   7.,   3.]),\n",
              " array([-3.59126958, -3.2573618 , -2.92345403, -2.58954625, -2.25563848,\n",
              "        -1.92173071, -1.58782293, -1.25391516, -0.92000738, -0.58609961,\n",
              "        -0.25219183,  0.08171594,  0.41562371,  0.74953149,  1.08343926,\n",
              "         1.41734704,  1.75125481,  2.08516259,  2.41907036,  2.75297813,\n",
              "         3.08688591]),\n",
              " <a list of 20 Patch objects>)"
            ]
          },
          "metadata": {
            "tags": []
          },
          "execution_count": 32
        },
        {
          "output_type": "display_data",
          "data": {
            "image/png": "[encoded data removed]",
            "text/plain": [
              "<Figure size 432x288 with 1 Axes>"
            ]
          },
          "metadata": {
            "tags": [],
            "needs_background": "light"
          }
        }
      ]
    },
    {
      "cell_type": "code",
      "metadata": {
        "id": "giMq3Rw9bOLv",
        "colab": {
          "base_uri": "https://localhost:8080/",
          "height": 285
        },
        "outputId": "e99c2dec-5651-47d2-d2ba-b9f9b94c6cbc"
      },
      "source": [
        "fig, axs = plt.subplots(nrows=1, ncols=2, figsize=(10, 4))\n",
        "axs[0].hist(x, bins=20)\n",
        "axs[1].hist(y, bins=20)\n",
        "\n",
        "axs[0].set_title(\"x\")\n",
        "axs[1].set_title(\"$x^2$\")\n",
        "plt.show()"
      ],
      "execution_count": 36,
      "outputs": [
        {
          "output_type": "display_data",
          "data": {
            "image/png": "[encoded data removed]",
            "text/plain": [
              "<Figure size 720x288 with 2 Axes>"
            ]
          },
          "metadata": {
            "tags": [],
            "needs_background": "light"
          }
        }
      ]
    }
  ]
}