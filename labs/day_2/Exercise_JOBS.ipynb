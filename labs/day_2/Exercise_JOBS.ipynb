{
  "nbformat": 4,
  "nbformat_minor": 0,
  "metadata": {
    "colab": {
      "name": "Exercise JOBS.ipynb",
      "provenance": [],
      "collapsed_sections": [],
      "authorship_tag": "ABX9TyP7HBLDvyue2dIeUpLfJBVu",
      "include_colab_link": true
    },
    "kernelspec": {
      "name": "python3",
      "display_name": "Python 3"
    },
    "language_info": {
      "name": "python"
    }
  },
  "cells": [
    {
      "cell_type": "markdown",
      "metadata": {
        "id": "view-in-github",
        "colab_type": "text"
      },
      "source": [
        "<a href=\"https://colab.research.google.com/github/dmachlanski/ncrm-causality-2021/blob/main/labs/day_2/Exercise_JOBS.ipynb\" target=\"_parent\"><img src=\"https://colab.research.google.com/assets/colab-badge.svg\" alt=\"Open In Colab\"/></a>"
      ]
    },
    {
      "cell_type": "markdown",
      "metadata": {
        "id": "BFCl5pNy27S2"
      },
      "source": [
        "Use the JOBS dataset. Here we evaluate against ATT and policy risk (R_pol)."
      ]
    },
    {
      "cell_type": "code",
      "metadata": {
        "id": "inAxrdv8IY-I"
      },
      "source": [
        "def calc_stats_effect(self, eff_pred):\n",
        "    att, policy = self.evaluate_bin_att_effect(eff_pred)\n",
        "    return att, policy\n",
        "\n",
        "def evaluate_bin_att_effect(self, eff_pred):\n",
        "    att = np.mean(self.yf[self.t > 0]) - np.mean(self.yf[(1 - self.t + self.e) > 1])\n",
        "\n",
        "    att_pred = np.mean(eff_pred[(self.t + self.e) > 1])\n",
        "    bias_att = att_pred - att\n",
        "\n",
        "    policy_value = self.policy_val(eff_pred[self.e > 0])\n",
        "\n",
        "    return np.abs(bias_att), 1 - policy_value\n",
        "\t\n",
        "def policy_val(self, eff_pred):\n",
        "    # Consider only the cases for which we have experimental data (i.e., e > 0)\n",
        "    t = self.t[self.e > 0]\n",
        "    yf = self.yf[self.e > 0]\n",
        "\n",
        "    if np.any(np.isnan(eff_pred)):\n",
        "        return np.nan, np.nan\n",
        "\n",
        "    policy = eff_pred > 0.0\n",
        "    treat_overlap = (policy == t) * (t > 0)\n",
        "    control_overlap = (policy == t) * (t < 1)\n",
        "\n",
        "    if np.sum(treat_overlap) == 0:\n",
        "        treat_value = 0\n",
        "    else:\n",
        "        treat_value = np.mean(yf[treat_overlap])\n",
        "\n",
        "    if np.sum(control_overlap) == 0:\n",
        "        control_value = 0\n",
        "    else:\n",
        "        control_value = np.mean(yf[control_overlap])\n",
        "\n",
        "    pit = np.mean(policy)\n",
        "    policy_value = pit * treat_value + (1 - pit) * control_value\n",
        "\n",
        "    return policy_value"
      ],
      "execution_count": null,
      "outputs": []
    }
  ]
}