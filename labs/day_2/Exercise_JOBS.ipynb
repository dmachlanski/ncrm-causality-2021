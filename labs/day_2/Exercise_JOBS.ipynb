{
  "nbformat": 4,
  "nbformat_minor": 0,
  "metadata": {
    "colab": {
      "name": "Exercise JOBS.ipynb",
      "provenance": [],
      "collapsed_sections": [],
      "authorship_tag": "ABX9TyMVEpfUVojoIj1BVN+m+er6",
      "include_colab_link": true
    },
    "kernelspec": {
      "name": "python3",
      "display_name": "Python 3"
    },
    "language_info": {
      "name": "python"
    }
  },
  "cells": [
    {
      "cell_type": "markdown",
      "metadata": {
        "id": "view-in-github",
        "colab_type": "text"
      },
      "source": [
        "<a href=\"https://colab.research.google.com/github/dmachlanski/ncrm-causality-2021/blob/main/labs/day_2/Exercise_JOBS.ipynb\" target=\"_parent\"><img src=\"https://colab.research.google.com/assets/colab-badge.svg\" alt=\"Open In Colab\"/></a>"
      ]
    },
    {
      "cell_type": "markdown",
      "metadata": {
        "id": "BFCl5pNy27S2"
      },
      "source": [
        "Use the JOBS dataset. Here we evaluate against ATT and policy risk (R_pol)."
      ]
    },
    {
      "cell_type": "code",
      "metadata": {
        "id": "inAxrdv8IY-I"
      },
      "source": [
        "def calc_stats(y, t, e, te_pred):\n",
        "    att = np.mean(y[t > 0]) - np.mean(y[(1 - t + e) > 1])\n",
        "\n",
        "    att_pred = np.mean(te_pred[(t + e) > 1])\n",
        "    bias_att = att_pred - att\n",
        "\n",
        "    policy_value = policy_val(te_pred[e > 0])\n",
        "\n",
        "    eps_att = np.abs(bias_att)\n",
        "    r_pol = 1 - policy_value\n",
        "    return eps_att, r_pol\n",
        "\t\n",
        "def policy_val(y, t, e, te_pred):\n",
        "    t_e = t[e > 0]\n",
        "    y_e = y[e > 0]\n",
        "\n",
        "    if np.any(np.isnan(te_pred)):\n",
        "        return np.nan, np.nan\n",
        "\n",
        "    policy = te_pred > 0.0\n",
        "    treat_overlap = (policy == t_e) * (t_e > 0)\n",
        "    control_overlap = (policy == t_e) * (t_e < 1)\n",
        "\n",
        "    if np.sum(treat_overlap) == 0:\n",
        "        treat_value = 0\n",
        "    else:\n",
        "        treat_value = np.mean(y_e[treat_overlap])\n",
        "\n",
        "    if np.sum(control_overlap) == 0:\n",
        "        control_value = 0\n",
        "    else:\n",
        "        control_value = np.mean(y_e[control_overlap])\n",
        "\n",
        "    pit = np.mean(policy)\n",
        "    policy_value = pit * treat_value + (1 - pit) * control_value\n",
        "\n",
        "    return policy_value"
      ],
      "execution_count": null,
      "outputs": []
    }
  ]
}