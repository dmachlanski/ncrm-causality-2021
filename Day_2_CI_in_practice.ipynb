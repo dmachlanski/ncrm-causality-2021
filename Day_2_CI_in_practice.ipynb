{
  "nbformat": 4,
  "nbformat_minor": 0,
  "metadata": {
    "colab": {
      "name": "Day 2 - CI in practice.ipynb",
      "provenance": [],
      "collapsed_sections": [],
      "authorship_tag": "ABX9TyPmnc40kpe2ZJOw+0iloCvj",
      "include_colab_link": true
    },
    "kernelspec": {
      "name": "python3",
      "display_name": "Python 3"
    },
    "language_info": {
      "name": "python"
    }
  },
  "cells": [
    {
      "cell_type": "markdown",
      "metadata": {
        "id": "view-in-github",
        "colab_type": "text"
      },
      "source": [
        "<a href=\"https://colab.research.google.com/github/dmachlanski/ncrm-causality-2021/blob/main/Day_2_CI_in_practice.ipynb\" target=\"_parent\"><img src=\"https://colab.research.google.com/assets/colab-badge.svg\" alt=\"Open In Colab\"/></a>"
      ]
    },
    {
      "cell_type": "code",
      "metadata": {
        "colab": {
          "base_uri": "https://localhost:8080/"
        },
        "id": "7rhmCjPV7uso",
        "outputId": "a5f61212-2e40-4449-a966-f00dcc97d296"
      },
      "source": [
        "!pip install econml"
      ],
      "execution_count": 2,
      "outputs": [
        {
          "output_type": "stream",
          "text": [
            "Collecting econml\n",
            "\u001b[?25l  Downloading https://files.pythonhosted.org/packages/1e/8a/046a7de22acc686293d0ab953f81bb3b7da68b1ff7defd67025efdbd5090/econml-0.11.0-cp37-cp37m-manylinux2010_x86_64.whl (3.0MB)\n",
            "\u001b[K     |████████████████████████████████| 3.0MB 4.0MB/s \n",
            "\u001b[?25hRequirement already satisfied: numpy in /usr/local/lib/python3.7/dist-packages (from econml) (1.19.5)\n",
            "Requirement already satisfied: graphviz in /usr/local/lib/python3.7/dist-packages (from econml) (0.10.1)\n",
            "Requirement already satisfied: scikit-learn>0.22.0 in /usr/local/lib/python3.7/dist-packages (from econml) (0.22.2.post1)\n",
            "Collecting shap~=0.38.1\n",
            "\u001b[?25l  Downloading https://files.pythonhosted.org/packages/44/20/54381999efe3000f70a7f68af79ba857cfa3f82278ab0e02e6ba1c06b002/shap-0.38.1.tar.gz (352kB)\n",
            "\u001b[K     |████████████████████████████████| 358kB 38.0MB/s \n",
            "\u001b[?25hRequirement already satisfied: numba!=0.42.1 in /usr/local/lib/python3.7/dist-packages (from econml) (0.51.2)\n",
            "Requirement already satisfied: lightgbm in /usr/local/lib/python3.7/dist-packages (from econml) (2.2.3)\n",
            "Requirement already satisfied: scipy>1.4.0 in /usr/local/lib/python3.7/dist-packages (from econml) (1.4.1)\n",
            "Requirement already satisfied: joblib>=0.13.0 in /usr/local/lib/python3.7/dist-packages (from econml) (1.0.1)\n",
            "Collecting dowhy\n",
            "\u001b[?25l  Downloading https://files.pythonhosted.org/packages/c4/e0/c1480994d39eaa66faa7d4106a4daea7b345dcc31ad83196460c2676701c/dowhy-0.6-py3-none-any.whl (123kB)\n",
            "\u001b[K     |████████████████████████████████| 133kB 32.2MB/s \n",
            "\u001b[?25hRequirement already satisfied: pandas in /usr/local/lib/python3.7/dist-packages (from econml) (1.1.5)\n",
            "Collecting sparse\n",
            "\u001b[?25l  Downloading https://files.pythonhosted.org/packages/46/20/c409a0d0ea7623a936080e0038eb77a02e62629a07944706c26f24ebcbb8/sparse-0.12.0-py2.py3-none-any.whl (76kB)\n",
            "\u001b[K     |████████████████████████████████| 81kB 8.9MB/s \n",
            "\u001b[?25hRequirement already satisfied: statsmodels>=0.9 in /usr/local/lib/python3.7/dist-packages (from econml) (0.10.2)\n",
            "Requirement already satisfied: tqdm>4.25.0 in /usr/local/lib/python3.7/dist-packages (from shap~=0.38.1->econml) (4.41.1)\n",
            "Collecting slicer==0.0.7\n",
            "  Downloading https://files.pythonhosted.org/packages/78/c2/b3f55dfdb8af9812fdb9baf70cacf3b9e82e505b2bd4324d588888b81202/slicer-0.0.7-py3-none-any.whl\n",
            "Requirement already satisfied: cloudpickle in /usr/local/lib/python3.7/dist-packages (from shap~=0.38.1->econml) (1.3.0)\n",
            "Requirement already satisfied: setuptools in /usr/local/lib/python3.7/dist-packages (from numba!=0.42.1->econml) (56.1.0)\n",
            "Requirement already satisfied: llvmlite<0.35,>=0.34.0.dev0 in /usr/local/lib/python3.7/dist-packages (from numba!=0.42.1->econml) (0.34.0)\n",
            "Requirement already satisfied: networkx>=2.0 in /usr/local/lib/python3.7/dist-packages (from dowhy->econml) (2.5.1)\n",
            "Collecting pydot>=1.4\n",
            "  Downloading https://files.pythonhosted.org/packages/ea/76/75b1bb82e9bad3e3d656556eaa353d8cd17c4254393b08ec9786ac8ed273/pydot-1.4.2-py2.py3-none-any.whl\n",
            "Requirement already satisfied: sympy>=1.4 in /usr/local/lib/python3.7/dist-packages (from dowhy->econml) (1.7.1)\n",
            "Requirement already satisfied: python-dateutil>=2.7.3 in /usr/local/lib/python3.7/dist-packages (from pandas->econml) (2.8.1)\n",
            "Requirement already satisfied: pytz>=2017.2 in /usr/local/lib/python3.7/dist-packages (from pandas->econml) (2018.9)\n",
            "Requirement already satisfied: patsy>=0.4.0 in /usr/local/lib/python3.7/dist-packages (from statsmodels>=0.9->econml) (0.5.1)\n",
            "Requirement already satisfied: decorator<5,>=4.3 in /usr/local/lib/python3.7/dist-packages (from networkx>=2.0->dowhy->econml) (4.4.2)\n",
            "Requirement already satisfied: pyparsing>=2.1.4 in /usr/local/lib/python3.7/dist-packages (from pydot>=1.4->dowhy->econml) (2.4.7)\n",
            "Requirement already satisfied: mpmath>=0.19 in /usr/local/lib/python3.7/dist-packages (from sympy>=1.4->dowhy->econml) (1.2.1)\n",
            "Requirement already satisfied: six>=1.5 in /usr/local/lib/python3.7/dist-packages (from python-dateutil>=2.7.3->pandas->econml) (1.15.0)\n",
            "Building wheels for collected packages: shap\n",
            "  Building wheel for shap (setup.py) ... \u001b[?25l\u001b[?25hdone\n",
            "  Created wheel for shap: filename=shap-0.38.1-cp37-cp37m-linux_x86_64.whl size=490501 sha256=e7697a61626a77528a78ce0b8b2fa1ccb39ac5d7fd064ab1eeb0cd81079f7c9a\n",
            "  Stored in directory: /root/.cache/pip/wheels/a8/fb/e4/88012be41842b9be62ae18d82d1b1e880daf8539d1fef1fa00\n",
            "Successfully built shap\n",
            "Installing collected packages: slicer, shap, pydot, dowhy, sparse, econml\n",
            "  Found existing installation: pydot 1.3.0\n",
            "    Uninstalling pydot-1.3.0:\n",
            "      Successfully uninstalled pydot-1.3.0\n",
            "Successfully installed dowhy-0.6 econml-0.11.0 pydot-1.4.2 shap-0.38.1 slicer-0.0.7 sparse-0.12.0\n"
          ],
          "name": "stdout"
        }
      ]
    },
    {
      "cell_type": "code",
      "metadata": {
        "id": "L9uepzrPD44v",
        "colab": {
          "base_uri": "https://localhost:8080/"
        },
        "outputId": "da1ae85d-5cbe-42ed-8d03-1466ee0e5ab7"
      },
      "source": [
        "from econml.data.dgps import ihdp_surface_B\n",
        "from econml.metalearners import XLearner\n",
        "from sklearn.ensemble import RandomForestRegressor, RandomForestClassifier\n",
        "from sklearn.model_selection import train_test_split\n",
        "import numpy as np\n",
        "import pandas as pd\n",
        "import scipy.stats as st\n",
        "import matplotlib.pyplot as plt"
      ],
      "execution_count": 3,
      "outputs": [
        {
          "output_type": "stream",
          "text": [
            "/usr/local/lib/python3.7/dist-packages/statsmodels/tools/_testing.py:19: FutureWarning: pandas.util.testing is deprecated. Use the functions in the public API at pandas.testing instead.\n",
            "  import pandas.util.testing as tm\n"
          ],
          "name": "stderr"
        }
      ]
    },
    {
      "cell_type": "code",
      "metadata": {
        "id": "pefJEvU7EPyG"
      },
      "source": [
        "Y, T, X, expected_te = ihdp_surface_B()\n",
        "\n",
        "y_train, y_test, t_train, t_test, x_train, x_test, te_train, te_test = train_test_split(Y, T, X, expected_te, test_size=0.2, random_state=1, stratify=T)"
      ],
      "execution_count": 4,
      "outputs": []
    },
    {
      "cell_type": "code",
      "metadata": {
        "id": "RJOkytBTFYAd"
      },
      "source": [
        "# X-Learner\n",
        "xl = XLearner(models=RandomForestRegressor(), propensity_model=RandomForestClassifier())\n",
        "xl.fit(y_train, t_train, X=x_train)\n",
        "\n",
        "xl_te_in = xl.effect(x_train)\n",
        "xl_te_out = xl.effect(x_test)"
      ],
      "execution_count": 5,
      "outputs": []
    },
    {
      "cell_type": "code",
      "metadata": {
        "id": "YOgapVzqF1eP"
      },
      "source": [
        "t_train_2d = t_train.reshape(-1, 1)\n",
        "t_test_2d = t_test.reshape(-1, 1)\n",
        "\n",
        "# Random Forest\n",
        "rf = RandomForestRegressor()\n",
        "rf.fit(np.concatenate([x_train, t_train_2d], axis=1), y_train)\n",
        "\n",
        "rf_y0_in = rf.predict(np.concatenate([x_train, np.zeros_like(t_train_2d)], axis=1))\n",
        "rf_y1_in = rf.predict(np.concatenate([x_train, np.ones_like(t_train_2d)], axis=1))\n",
        "\n",
        "rf_y0_out = rf.predict(np.concatenate([x_test, np.zeros_like(t_test_2d)], axis=1))\n",
        "rf_y1_out = rf.predict(np.concatenate([x_test, np.ones_like(t_test_2d)], axis=1))\n",
        "\n",
        "rf_te_in = rf_y1_in - rf_y0_in\n",
        "rf_te_out = rf_y1_out - rf_y0_out"
      ],
      "execution_count": 6,
      "outputs": []
    },
    {
      "cell_type": "code",
      "metadata": {
        "id": "dMYcKorYKXK7"
      },
      "source": [
        "def rmse(a, b):\n",
        "    return np.sqrt(((a - b)**2).mean())\n",
        "\n",
        "def ate_error(pred_te, true_te):\n",
        "  return np.abs(np.mean(pred_te) - np.mean(true_te))\n",
        "\n",
        "def pehe_error(pred_te, true_te):\n",
        "  return rmse(true_te, pred_te)"
      ],
      "execution_count": 7,
      "outputs": []
    },
    {
      "cell_type": "code",
      "metadata": {
        "id": "HsnoNogwNhcn"
      },
      "source": [
        "xl_ate_in, xl_pehe_in = ate_error(xl_te_in, te_train), pehe_error(xl_te_in, te_train)\n",
        "xl_ate_out, xl_pehe_out = ate_error(xl_te_out, te_test), pehe_error(xl_te_out, te_test)\n",
        "\n",
        "rf_ate_in, rf_pehe_in = ate_error(rf_te_in, te_train), pehe_error(rf_te_in, te_train)\n",
        "rf_ate_out, rf_pehe_out = ate_error(rf_te_out, te_test), pehe_error(rf_te_out, te_test)"
      ],
      "execution_count": 8,
      "outputs": []
    },
    {
      "cell_type": "code",
      "metadata": {
        "colab": {
          "base_uri": "https://localhost:8080/",
          "height": 106
        },
        "id": "_lRRL5WFN-kz",
        "outputId": "ce3256d2-825c-446a-ae26-2fb1c123feeb"
      },
      "source": [
        "results = []\n",
        "results.append(['XL', xl_ate_in, xl_pehe_in, xl_ate_out, xl_pehe_out])\n",
        "results.append(['RF', rf_ate_in, rf_pehe_in, rf_ate_out, rf_pehe_out])\n",
        "\n",
        "cols = ['Method', 'ATE in', 'PEHE in', 'ATE out', 'PEHE out']\n",
        "\n",
        "df = pd.DataFrame(results, columns=cols)\n",
        "df"
      ],
      "execution_count": 9,
      "outputs": [
        {
          "output_type": "execute_result",
          "data": {
            "text/html": [
              "<div>\n",
              "<style scoped>\n",
              "    .dataframe tbody tr th:only-of-type {\n",
              "        vertical-align: middle;\n",
              "    }\n",
              "\n",
              "    .dataframe tbody tr th {\n",
              "        vertical-align: top;\n",
              "    }\n",
              "\n",
              "    .dataframe thead th {\n",
              "        text-align: right;\n",
              "    }\n",
              "</style>\n",
              "<table border=\"1\" class=\"dataframe\">\n",
              "  <thead>\n",
              "    <tr style=\"text-align: right;\">\n",
              "      <th></th>\n",
              "      <th>Method</th>\n",
              "      <th>ATE in</th>\n",
              "      <th>PEHE in</th>\n",
              "      <th>ATE out</th>\n",
              "      <th>PEHE out</th>\n",
              "    </tr>\n",
              "  </thead>\n",
              "  <tbody>\n",
              "    <tr>\n",
              "      <th>0</th>\n",
              "      <td>XL</td>\n",
              "      <td>0.006831</td>\n",
              "      <td>0.612278</td>\n",
              "      <td>0.038489</td>\n",
              "      <td>0.643703</td>\n",
              "    </tr>\n",
              "    <tr>\n",
              "      <th>1</th>\n",
              "      <td>RF</td>\n",
              "      <td>0.147609</td>\n",
              "      <td>0.889657</td>\n",
              "      <td>0.041462</td>\n",
              "      <td>0.689965</td>\n",
              "    </tr>\n",
              "  </tbody>\n",
              "</table>\n",
              "</div>"
            ],
            "text/plain": [
              "  Method    ATE in   PEHE in   ATE out  PEHE out\n",
              "0     XL  0.006831  0.612278  0.038489  0.643703\n",
              "1     RF  0.147609  0.889657  0.041462  0.689965"
            ]
          },
          "metadata": {
            "tags": []
          },
          "execution_count": 9
        }
      ]
    },
    {
      "cell_type": "code",
      "metadata": {
        "id": "-lw7ITh5P3jY"
      },
      "source": [
        "def mean_ci(data, ci=0.95):\n",
        "  l_mean = np.mean(data)\n",
        "  lower, upper = st.t.interval(ci, len(data)-1, loc=l_mean, scale=st.sem(data))\n",
        "  return l_mean, lower, upper"
      ],
      "execution_count": 10,
      "outputs": []
    },
    {
      "cell_type": "code",
      "metadata": {
        "colab": {
          "base_uri": "https://localhost:8080/",
          "height": 265
        },
        "id": "kKRX91ARX894",
        "outputId": "9a6c02db-7c05-4d15-ca2b-b381c4169f6a"
      },
      "source": [
        "plt.violinplot([np.abs(xl_te_out - te_test), \n",
        "                np.abs(rf_te_out - te_test)\n",
        "               ], showmeans=True)\n",
        "plt.ylabel(\"Bias distribution\")\n",
        "plt.xticks([1, 2], ['X-learner', 'Random Forest'])\n",
        "plt.show()"
      ],
      "execution_count": 13,
      "outputs": [
        {
          "output_type": "display_data",
          "data": {
            "image/png": "[encoded data removed]",
            "text/plain": [
              "<Figure size 432x288 with 1 Axes>"
            ]
          },
          "metadata": {
            "tags": [],
            "needs_background": "light"
          }
        }
      ]
    },
    {
      "cell_type": "code",
      "metadata": {
        "colab": {
          "base_uri": "https://localhost:8080/",
          "height": 106
        },
        "id": "vo1gbU8nlnNA",
        "outputId": "4c55ba60-6f52-4701-8d74-955ef1c032f2"
      },
      "source": [
        "xl_ate_bounds = mean_ci(xl_te_out)\n",
        "rf_ate_bounds = mean_ci(rf_te_out)\n",
        "\n",
        "results = []\n",
        "results.append(['XL', xl_ate_bounds[0], xl_ate_bounds[1], xl_ate_bounds[2]])\n",
        "results.append(['RF', rf_ate_bounds[0], rf_ate_bounds[1], rf_ate_bounds[2]])\n",
        "\n",
        "cols = ['Method', 'ATE mean', 'CI lower', 'CI upper']\n",
        "\n",
        "df = pd.DataFrame(results, columns=cols)\n",
        "df"
      ],
      "execution_count": 14,
      "outputs": [
        {
          "output_type": "execute_result",
          "data": {
            "text/html": [
              "<div>\n",
              "<style scoped>\n",
              "    .dataframe tbody tr th:only-of-type {\n",
              "        vertical-align: middle;\n",
              "    }\n",
              "\n",
              "    .dataframe tbody tr th {\n",
              "        vertical-align: top;\n",
              "    }\n",
              "\n",
              "    .dataframe thead th {\n",
              "        text-align: right;\n",
              "    }\n",
              "</style>\n",
              "<table border=\"1\" class=\"dataframe\">\n",
              "  <thead>\n",
              "    <tr style=\"text-align: right;\">\n",
              "      <th></th>\n",
              "      <th>Method</th>\n",
              "      <th>ATE mean</th>\n",
              "      <th>CI lower</th>\n",
              "      <th>CI upper</th>\n",
              "    </tr>\n",
              "  </thead>\n",
              "  <tbody>\n",
              "    <tr>\n",
              "      <th>0</th>\n",
              "      <td>XL</td>\n",
              "      <td>3.880738</td>\n",
              "      <td>3.736886</td>\n",
              "      <td>4.024591</td>\n",
              "    </tr>\n",
              "    <tr>\n",
              "      <th>1</th>\n",
              "      <td>RF</td>\n",
              "      <td>3.800787</td>\n",
              "      <td>3.597701</td>\n",
              "      <td>4.003873</td>\n",
              "    </tr>\n",
              "  </tbody>\n",
              "</table>\n",
              "</div>"
            ],
            "text/plain": [
              "  Method  ATE mean  CI lower  CI upper\n",
              "0     XL  3.880738  3.736886  4.024591\n",
              "1     RF  3.800787  3.597701  4.003873"
            ]
          },
          "metadata": {
            "tags": []
          },
          "execution_count": 14
        }
      ]
    },
    {
      "cell_type": "code",
      "metadata": {
        "colab": {
          "base_uri": "https://localhost:8080/",
          "height": 37
        },
        "id": "kAKH-OSYlnKu",
        "outputId": "2802ecdc-475b-4b54-eef4-741e33afb910"
      },
      "source": [
        "np.mean(te_test)"
      ],
      "execution_count": 15,
      "outputs": [
        {
          "output_type": "execute_result",
          "data": {
            "image/png": "[encoded data removed]",
            "text/latex": "$\\displaystyle 3.84224901255426$",
            "text/plain": [
              "3.842249012554265"
            ]
          },
          "metadata": {
            "tags": []
          },
          "execution_count": 15
        }
      ]
    },
    {
      "cell_type": "code",
      "metadata": {
        "colab": {
          "base_uri": "https://localhost:8080/",
          "height": 265
        },
        "id": "BecxSnKyrzzY",
        "outputId": "21a32555-f505-454c-9c12-b85f353da42e"
      },
      "source": [
        "plt.figure()\n",
        "plt.boxplot([te_test, xl_te_out, rf_te_out], labels=['Baseline', 'X-learner', 'Random Forest'])\n",
        "plt.ylabel('Treatment Effect')\n",
        "\n",
        "plt.show()"
      ],
      "execution_count": 58,
      "outputs": [
        {
          "output_type": "display_data",
          "data": {
            "image/png": "[encoded data removed]",
            "text/plain": [
              "<Figure size 432x288 with 1 Axes>"
            ]
          },
          "metadata": {
            "tags": [],
            "needs_background": "light"
          }
        }
      ]
    },
    {
      "cell_type": "code",
      "metadata": {
        "colab": {
          "base_uri": "https://localhost:8080/",
          "height": 336
        },
        "id": "eA6mrA2inWLQ",
        "outputId": "abc1449a-5b4f-482b-9f8e-e028858efd31"
      },
      "source": [
        "x_id = 1\n",
        "\n",
        "plt.figure(figsize=(7, 5))\n",
        "plt.scatter(x_test[:, x_id], te_test, color='black', marker='x', label='Baseline')\n",
        "plt.scatter(x_test[:, x_id], xl_te_out, label=\"X-learner\")\n",
        "plt.scatter(x_test[:, x_id], rf_te_out, label=\"Random Forest\")\n",
        "plt.xlabel(f'$x_{x_id}$')\n",
        "plt.ylabel('Treatment Effect')\n",
        "plt.legend()\n",
        "plt.show()"
      ],
      "execution_count": 53,
      "outputs": [
        {
          "output_type": "display_data",
          "data": {
            "image/png": "[encoded data removed]",
            "text/plain": [
              "<Figure size 504x360 with 1 Axes>"
            ]
          },
          "metadata": {
            "tags": [],
            "needs_background": "light"
          }
        }
      ]
    }
  ]
}